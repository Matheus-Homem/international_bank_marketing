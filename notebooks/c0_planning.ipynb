{
  "nbformat": 4,
  "nbformat_minor": 0,
  "metadata": {
    "colab": {
      "name": "c0_planning.ipynb",
      "provenance": [],
      "authorship_tag": "ABX9TyPOjh2U/1dzuezGWwaH8Nys",
      "include_colab_link": true
    },
    "kernelspec": {
      "name": "python3",
      "display_name": "Python 3"
    },
    "language_info": {
      "name": "python"
    }
  },
  "cells": [
    {
      "cell_type": "markdown",
      "metadata": {
        "id": "view-in-github",
        "colab_type": "text"
      },
      "source": [
        "<a href=\"https://colab.research.google.com/github/Matheus-Homem/international_bank_marketing/blob/main/notebooks/c0_planning.ipynb\" target=\"_parent\"><img src=\"https://colab.research.google.com/assets/colab-badge.svg\" alt=\"Open In Colab\"/></a>"
      ]
    },
    {
      "cell_type": "markdown",
      "metadata": {
        "id": "4ECxIZyA21EX"
      },
      "source": [
        "# **Planning**: IoT Method"
      ]
    },
    {
      "cell_type": "markdown",
      "metadata": {
        "id": "YnnZNOyu3hV2"
      },
      "source": [
        "## Input"
      ]
    },
    {
      "cell_type": "markdown",
      "metadata": {
        "id": "yiH6AewbIwbp"
      },
      "source": [
        "- **Business Problem**\n",
        "  - Elaborate a data product that creates customer segmentation that will drive the Insiders Bank marketing strategy;\n",
        "- **Dataset**\n",
        "  - The sample Dataset summarizes the usage behavior of about 9000 active credit card holders during the last 6 months. The file is at a customer level with 18 behavioral variables;"
      ]
    },
    {
      "cell_type": "markdown",
      "metadata": {
        "id": "Q9G_ynWm3xxV"
      },
      "source": [
        "## Output"
      ]
    },
    {
      "cell_type": "markdown",
      "metadata": {
        "id": "6Fu625ZD3x09"
      },
      "source": [
        "- Report explaning why those customers were selected\n",
        "\n",
        "- Relationship of each customer with the assigned segmentation:\n",
        "\n",
        "<p align=\"center\">\n",
        "  <img src=\"https://github.com/Matheus-Homem/international_bank_marketing/blob/main/img/planning1.png?raw=true\" alt=\"planning1\"/>\n",
        "</p>\n",
        "\n",
        "- Scatter plot showing all customers and their segmentation:\n",
        "\n",
        "<p align=\"center\">\n",
        "  <img src=\"https://github.com/Matheus-Homem/international_bank_marketing/blob/main/img/planning2.png?raw=true\" alt=\"planning2\"/>\n",
        "</p>\n",
        "\n",
        "- Table with filter option showing all data for filtered customers:\n",
        "\n",
        "<p align=\"center\">\n",
        "  <img src=\"https://github.com/Matheus-Homem/international_bank_marketing/blob/main/img/planning3.png?raw=true\" alt=\"planning3\"/>\n",
        "</p>"
      ]
    },
    {
      "cell_type": "markdown",
      "metadata": {
        "id": "WGkLnet23x4W"
      },
      "source": [
        "## Tasks"
      ]
    },
    {
      "cell_type": "markdown",
      "metadata": {
        "id": "uZXMSLpm3x7V"
      },
      "source": [
        "- Data Description:\n",
        "  - NA Replace;\n",
        "  - Outliers Detection;\n",
        "- EDA (Exploratory Data Analysis):\n",
        "  - Univariate Analysis;\n",
        "  - Bivariate Analysis;\n",
        "  - Outliers Handling;\n",
        "  - Feature Selection;\n",
        "  - Space Study;\n",
        "  - Embedding Definition;\n",
        "- Machine Learning Algorithm Training:    \n",
        "  - Performance Analysis;\n",
        "  - Clustering Analysis;\n",
        "  - Number of Clusters Definition;\n",
        "- EDA - Insights: \n",
        "  - Segments Characteristics Explanation;\n",
        "- Table to store Clustered Clients\n",
        "- Production Notebook Creation\n",
        "- AWS Architecture: \n",
        "  - S3 to store data;\n",
        "  - EC2 to store ETL and Visualization Tool;\n",
        "  - DB to store table;\n",
        "  - Cronjob;\n",
        "  - Papermill;"
      ]
    },
    {
      "cell_type": "code",
      "metadata": {
        "id": "MBywNIVomerc"
      },
      "source": [
        ""
      ],
      "execution_count": null,
      "outputs": []
    }
  ]
}