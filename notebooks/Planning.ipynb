{
  "nbformat": 4,
  "nbformat_minor": 0,
  "metadata": {
    "colab": {
      "name": "Planning.ipynb",
      "provenance": [],
      "authorship_tag": "ABX9TyNAIn+2D0mjoZYO8IL5IVp8",
      "include_colab_link": true
    },
    "kernelspec": {
      "name": "python3",
      "display_name": "Python 3"
    },
    "language_info": {
      "name": "python"
    }
  },
  "cells": [
    {
      "cell_type": "markdown",
      "metadata": {
        "id": "view-in-github",
        "colab_type": "text"
      },
      "source": [
        "<a href=\"https://colab.research.google.com/github/Matheus-Homem/international_bank_marketing/blob/main/notebooks/Planning.ipynb\" target=\"_parent\"><img src=\"https://colab.research.google.com/assets/colab-badge.svg\" alt=\"Open In Colab\"/></a>"
      ]
    },
    {
      "cell_type": "markdown",
      "metadata": {
        "id": "4ECxIZyA21EX"
      },
      "source": [
        "# **Planning**: IoT Method"
      ]
    },
    {
      "cell_type": "markdown",
      "metadata": {
        "id": "YnnZNOyu3hV2"
      },
      "source": [
        "## Input"
      ]
    },
    {
      "cell_type": "markdown",
      "metadata": {
        "id": "ZetWSHBt3xqW"
      },
      "source": [
        "- A"
      ]
    },
    {
      "cell_type": "markdown",
      "metadata": {
        "id": "Q9G_ynWm3xxV"
      },
      "source": [
        "## Output"
      ]
    },
    {
      "cell_type": "markdown",
      "metadata": {
        "id": "6Fu625ZD3x09"
      },
      "source": [
        "- B"
      ]
    },
    {
      "cell_type": "markdown",
      "metadata": {
        "id": "WGkLnet23x4W"
      },
      "source": [
        "## Tasks"
      ]
    },
    {
      "cell_type": "markdown",
      "metadata": {
        "id": "uZXMSLpm3x7V"
      },
      "source": [
        "- C"
      ]
    }
  ]
}