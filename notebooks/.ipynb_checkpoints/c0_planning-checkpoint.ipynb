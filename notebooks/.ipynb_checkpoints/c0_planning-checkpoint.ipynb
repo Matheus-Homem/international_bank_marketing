{
 "cells": [
  {
   "cell_type": "markdown",
   "metadata": {
    "colab_type": "text",
    "id": "view-in-github"
   },
   "source": [
    "<a href=\"https://colab.research.google.com/github/Matheus-Homem/international_bank_marketing/blob/main/notebooks/c0_planning.ipynb\" target=\"_parent\"><img src=\"https://colab.research.google.com/assets/colab-badge.svg\" alt=\"Open In Colab\"/></a>"
   ]
  },
  {
   "cell_type": "markdown",
   "metadata": {
    "heading_collapsed": true,
    "id": "4ECxIZyA21EX"
   },
   "source": [
    "# **Planning**: IoT Method"
   ]
  },
  {
   "cell_type": "markdown",
   "metadata": {
    "heading_collapsed": true,
    "hidden": true,
    "id": "YnnZNOyu3hV2"
   },
   "source": [
    "## Input"
   ]
  },
  {
   "cell_type": "markdown",
   "metadata": {
    "hidden": true,
    "id": "yiH6AewbIwbp"
   },
   "source": [
    "- **Business Problem**\n",
    "  - Elaborate a data product that creates customer segmentation that will drive the Insiders Bank marketing strategy;\n",
    "- **Dataset**\n",
    "  - The sample Dataset summarizes the usage behavior of about 9000 active credit card holders during the last 6 months. The file is at a customer level with 18 behavioral variables;"
   ]
  },
  {
   "cell_type": "markdown",
   "metadata": {
    "heading_collapsed": true,
    "hidden": true,
    "id": "Q9G_ynWm3xxV"
   },
   "source": [
    "## Output"
   ]
  },
  {
   "cell_type": "markdown",
   "metadata": {
    "hidden": true,
    "id": "6Fu625ZD3x09"
   },
   "source": [
    "- Report explaning why those customers were selected\n",
    "\n",
    "- Relationship of each customer with the assigned segmentation:\n",
    "\n",
    "<p align=\"center\">\n",
    "  <img src=\"https://github.com/Matheus-Homem/international_bank_marketing/blob/main/img/planning1.png?raw=true\" alt=\"planning1\"/>\n",
    "</p>\n",
    "\n",
    "- Scatter plot showing all customers and their segmentation:\n",
    "\n",
    "<p align=\"center\">\n",
    "  <img src=\"https://github.com/Matheus-Homem/international_bank_marketing/blob/main/img/planning2.png?raw=true\" alt=\"planning2\"/>\n",
    "</p>\n",
    "\n",
    "- Table with filter option showing all data for filtered customers:\n",
    "\n",
    "<p align=\"center\">\n",
    "  <img src=\"https://github.com/Matheus-Homem/international_bank_marketing/blob/main/img/planning3.png?raw=true\" alt=\"planning3\"/>\n",
    "</p>"
   ]
  },
  {
   "cell_type": "markdown",
   "metadata": {
    "hidden": true,
    "id": "WGkLnet23x4W"
   },
   "source": [
    "## Tasks"
   ]
  },
  {
   "cell_type": "markdown",
   "metadata": {
    "hidden": true,
    "id": "uZXMSLpm3x7V"
   },
   "source": [
    "- Data Description:\n",
    "  - NA Replace;\n",
    "  - Outliers Detection;\n",
    "- EDA (Exploratory Data Analysis):\n",
    "  - Univariate Analysis;\n",
    "  - Bivariate Analysis;\n",
    "  - Outliers Handling;\n",
    "  - Feature Selection;\n",
    "  - Space Study;\n",
    "  - Embedding Definition;\n",
    "- Machine Learning Algorithm Training:    \n",
    "  - Performance Analysis;\n",
    "  - Clustering Analysis;\n",
    "  - Number of Clusters Definition;\n",
    "- EDA - Insights: \n",
    "  - Segments Characteristics Explanation;\n",
    "- Table to store Clustered Clients\n",
    "- Production Notebook Creation\n",
    "- AWS Architecture: \n",
    "  - S3 to store data;\n",
    "  - EC2 to store ETL and Visualization Tool;\n",
    "  - DB to store table;\n",
    "  - Cronjob;\n",
    "  - Papermill;"
   ]
  },
  {
   "cell_type": "markdown",
   "metadata": {
    "id": "MBywNIVomerc"
   },
   "source": [
    "# Cycles To-Do List"
   ]
  },
  {
   "cell_type": "markdown",
   "metadata": {},
   "source": [
    "## <font color='red'>Cycle 01</font> - End to End Solution"
   ]
  },
  {
   "cell_type": "markdown",
   "metadata": {},
   "source": [
    "- **Purpose of the Cycle:**\n",
    "    - Elaborate the entire project solution as simple as possible to check for possible obstacles.\n",
    "- **What was done:**\n",
    "    - **0.** Imports of data and libraries for basic project performance;\n",
    "    - **1.** Shallow data analysis and removal of all missing data;\n",
    "    - **2.** Selection of features for model execution;\n",
    "    - **3.** No changes;\n",
    "    - **4.** No changes;\n",
    "    - **5.** No changes;\n",
    "    - **6.** No changes;\n",
    "    - **7.** Calculation of the Elbow Method, Sillhouette Score and Davies Bouldin Score for 2 to 8 clusters from the selected features;\n",
    "    - **8.** Application of the model and analysis of clustering metrics for k=3;\n",
    "    - **9.** Creation of a 3d scatter chart to visualize the results and create the clusters profile;    "
   ]
  },
  {
   "cell_type": "markdown",
   "metadata": {},
   "source": [
    "## <font color='red'>Cycle 02</font> - Metrics and Data Analysis"
   ]
  },
  {
   "cell_type": "markdown",
   "metadata": {},
   "source": [
    "- **Purpose of the Cycle:**\n",
    "    - Have a better selection of features for the final model and analyze the clustered data with greater precision.\n",
    "- **What was done:**\n",
    "    - **0.** No changes;\n",
    "    - **1.** Creation of descriptive statistics of the features;\n",
    "    - **2.** Changing the selected features to run the model;\n",
    "    - **3.** No changes;\n",
    "    - **4.** No changes;\n",
    "    - **5.** No changes;\n",
    "    - **6.** No changes;\n",
    "    - **7.** Calculation of the Elbow Method, Sillhouette Score, Davies Bouldin Score and Sillhouette Analysis for 2 to 7 clusters from the new selected features;\n",
    "    - **8.** Application of the model and analysis of clustering metrics for k=3;\n",
    "    - **9.** Creation of a pairplot to visualize the results, application of the UMAP dimensionality reducer and creation of the clusters profile;"
   ]
  },
  {
   "cell_type": "markdown",
   "metadata": {},
   "source": [
    "## <font color='red'>Cycle 03</font> - Feature Engineering"
   ]
  },
  {
   "cell_type": "markdown",
   "metadata": {},
   "source": [
    "- **Purpose of the Cycle:**\n",
    "    - Selection of best features in order to obtain better clusters compared to other cycles.\n",
    "- **What was done:**\n",
    "    - **0.** Addition of new libraries to be used in the cycle in the import code;\n",
    "    - **1.** Replacement of missing data instead of deletion;\n",
    "    - **2.** *Order change with item 3*/Creation of a line filter;\n",
    "    - **3.** *Order change with item 2*/Change of features for model execution;\n",
    "    - **4.** Plot of features histograms;\n",
    "    - **5.** StandardScaler application on selected features;\n",
    "    - **6.** No changes;\n",
    "    - **7.** Same steps performed in the previous cycle but now applying the new features;\n",
    "    - **8.** Application of the model and analysis of clustering metrics for k=6;\n",
    "    - **9.** Same steps performed in the previous cycle but now applied to new clusters;"
   ]
  },
  {
   "cell_type": "markdown",
   "metadata": {},
   "source": [
    "## <font color='red'>Cycle 04</font> - Exploratory Data Analysis"
   ]
  },
  {
   "cell_type": "markdown",
   "metadata": {},
   "source": [
    "- **Purpose of the Cycle:**\n",
    "    - Develop data analysis, thus promoting greater understanding of the business and improving decision making.\n",
    "- **What was done:**\n",
    "    - **0.** Addition of new libraries to be used in the cycle in the import code;\n",
    "    - **1.** No changes;\n",
    "    - **2.** Creation of three more line filters;\n",
    "    - **3.** Addition of three new features to those previously selected;\n",
    "    - **4.** Creation of:\n",
    "      - A report for univariate data analysis;\n",
    "      - A heat map representing the correlation between features;\n",
    "      - Graphs that promote the analysis of one, two or even three features;\n",
    "    - **5.** Same steps performed in the previous cycle but now applying the new features;\n",
    "    - **6.** No changes;\n",
    "    - **7.** No changes;\n",
    "    - **8.** No changes;\n",
    "    - **9.** No changes;"
   ]
  },
  {
   "cell_type": "markdown",
   "metadata": {},
   "source": [
    "## <font color='red'>Cycle 05</font> - Data Space Study"
   ]
  },
  {
   "cell_type": "markdown",
   "metadata": {},
   "source": [
    "- **Purpose of the Cycle:**\n",
    "    - Creation of data spaces using different techniques, thus generating another way of creating clusters.\n",
    "- **What was done:**\n",
    "    - **0.** Addition of new libraries to be used in the cycle in the import code;\n",
    "    - **1.** No changes;\n",
    "    - **2.** No changes;\n",
    "    - **3.** No changes;\n",
    "    - **4.** Data transformation with MinMaxScaler and StandardScaler and creation of data spaces for both cases using the following techniques:\n",
    "      - PCA;\n",
    "      - UMAP;\n",
    "      - TSNE;\n",
    "      - Tree-Based;\n",
    "    - **5.** No changes;\n",
    "    - **6.** No changes;\n",
    "    - **7.** No changes;\n",
    "    - **8.** No changes;\n",
    "    - **9.** No changes;"
   ]
  },
  {
   "cell_type": "markdown",
   "metadata": {},
   "source": [
    "## <font color='red'>Cycle 06</font> - Clustering Models"
   ]
  },
  {
   "cell_type": "markdown",
   "metadata": {},
   "source": []
  }
 ],
 "metadata": {
  "colab": {
   "authorship_tag": "ABX9TyPOjh2U/1dzuezGWwaH8Nys",
   "include_colab_link": true,
   "name": "c0_planning.ipynb",
   "provenance": []
  },
  "kernelspec": {
   "display_name": "Python 3",
   "language": "python",
   "name": "python3"
  },
  "language_info": {
   "codemirror_mode": {
    "name": "ipython",
    "version": 3
   },
   "file_extension": ".py",
   "mimetype": "text/x-python",
   "name": "python",
   "nbconvert_exporter": "python",
   "pygments_lexer": "ipython3",
   "version": "3.8.8"
  }
 },
 "nbformat": 4,
 "nbformat_minor": 1
}
