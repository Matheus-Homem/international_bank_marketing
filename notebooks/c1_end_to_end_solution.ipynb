{
  "nbformat": 4,
  "nbformat_minor": 0,
  "metadata": {
    "colab": {
      "name": "c1_end_to_end_solution.ipynb",
      "provenance": [],
      "authorship_tag": "ABX9TyPbgxxhxFkEFSAiWUe0lrjS",
      "include_colab_link": true
    },
    "kernelspec": {
      "name": "python3",
      "display_name": "Python 3"
    },
    "language_info": {
      "name": "python"
    }
  },
  "cells": [
    {
      "cell_type": "markdown",
      "metadata": {
        "id": "view-in-github",
        "colab_type": "text"
      },
      "source": [
        "<a href=\"https://colab.research.google.com/github/Matheus-Homem/international_bank_marketing/blob/main/notebooks/c1_end_to_end_solution.ipynb\" target=\"_parent\"><img src=\"https://colab.research.google.com/assets/colab-badge.svg\" alt=\"Open In Colab\"/></a>"
      ]
    },
    {
      "cell_type": "markdown",
      "metadata": {
        "id": "hLtZkN199bN_"
      },
      "source": [
        "# 0. Imports"
      ]
    },
    {
      "cell_type": "markdown",
      "metadata": {
        "id": "SWDob6Yr-vam"
      },
      "source": [
        "## 0.1. Libraries"
      ]
    },
    {
      "cell_type": "code",
      "metadata": {
        "id": "0QSS8gEm-bqm"
      },
      "source": [
        "import numpy as np\n",
        "import pandas as pd\n",
        "import seaborn as sns\n",
        "from matplotlib import pyplot as plt\n",
        "from yellowbrick.cluster import KElbowVisualizer\n",
        "from sklearn.cluster import KMeans"
      ],
      "execution_count": null,
      "outputs": []
    },
    {
      "cell_type": "markdown",
      "metadata": {
        "id": "c3SMtYQ-nxwK"
      },
      "source": [
        "## 0.2. Helper Functions"
      ]
    },
    {
      "cell_type": "code",
      "metadata": {
        "id": "RWlqJQn9n0Op"
      },
      "source": [
        "def mirroring(x):\n",
        "  x += (.5 - x)*2\n",
        "  return x"
      ],
      "execution_count": 31,
      "outputs": []
    },
    {
      "cell_type": "markdown",
      "metadata": {
        "id": "U4xmd0AY-4MX"
      },
      "source": [
        "## 0.3. Load Dataset"
      ]
    },
    {
      "cell_type": "code",
      "metadata": {
        "id": "8mcCyc8k-_zG"
      },
      "source": [
        "df = pd.read_csv('https://github.com/Matheus-Homem/international_bank_marketing/raw/main/data/CC%20GENERAL.csv')"
      ],
      "execution_count": 32,
      "outputs": []
    },
    {
      "cell_type": "code",
      "metadata": {
        "colab": {
          "base_uri": "https://localhost:8080/",
          "height": 607
        },
        "id": "zUDm6rI0_FOe",
        "outputId": "2c5570bf-fbe7-4f3f-fafc-93a282add7f4"
      },
      "source": [
        "df.sample().T"
      ],
      "execution_count": 33,
      "outputs": [
        {
          "output_type": "execute_result",
          "data": {
            "text/html": [
              "<div>\n",
              "<style scoped>\n",
              "    .dataframe tbody tr th:only-of-type {\n",
              "        vertical-align: middle;\n",
              "    }\n",
              "\n",
              "    .dataframe tbody tr th {\n",
              "        vertical-align: top;\n",
              "    }\n",
              "\n",
              "    .dataframe thead th {\n",
              "        text-align: right;\n",
              "    }\n",
              "</style>\n",
              "<table border=\"1\" class=\"dataframe\">\n",
              "  <thead>\n",
              "    <tr style=\"text-align: right;\">\n",
              "      <th></th>\n",
              "      <th>3301</th>\n",
              "    </tr>\n",
              "  </thead>\n",
              "  <tbody>\n",
              "    <tr>\n",
              "      <th>CUST_ID</th>\n",
              "      <td>C13395</td>\n",
              "    </tr>\n",
              "    <tr>\n",
              "      <th>BALANCE</th>\n",
              "      <td>926.219</td>\n",
              "    </tr>\n",
              "    <tr>\n",
              "      <th>BALANCE_FREQUENCY</th>\n",
              "      <td>1</td>\n",
              "    </tr>\n",
              "    <tr>\n",
              "      <th>PURCHASES</th>\n",
              "      <td>1218.92</td>\n",
              "    </tr>\n",
              "    <tr>\n",
              "      <th>ONEOFF_PURCHASES</th>\n",
              "      <td>0</td>\n",
              "    </tr>\n",
              "    <tr>\n",
              "      <th>INSTALLMENTS_PURCHASES</th>\n",
              "      <td>1218.92</td>\n",
              "    </tr>\n",
              "    <tr>\n",
              "      <th>CASH_ADVANCE</th>\n",
              "      <td>0</td>\n",
              "    </tr>\n",
              "    <tr>\n",
              "      <th>PURCHASES_FREQUENCY</th>\n",
              "      <td>1</td>\n",
              "    </tr>\n",
              "    <tr>\n",
              "      <th>ONEOFF_PURCHASES_FREQUENCY</th>\n",
              "      <td>0</td>\n",
              "    </tr>\n",
              "    <tr>\n",
              "      <th>PURCHASES_INSTALLMENTS_FREQUENCY</th>\n",
              "      <td>1</td>\n",
              "    </tr>\n",
              "    <tr>\n",
              "      <th>CASH_ADVANCE_FREQUENCY</th>\n",
              "      <td>0</td>\n",
              "    </tr>\n",
              "    <tr>\n",
              "      <th>CASH_ADVANCE_TRX</th>\n",
              "      <td>0</td>\n",
              "    </tr>\n",
              "    <tr>\n",
              "      <th>PURCHASES_TRX</th>\n",
              "      <td>18</td>\n",
              "    </tr>\n",
              "    <tr>\n",
              "      <th>CREDIT_LIMIT</th>\n",
              "      <td>13000</td>\n",
              "    </tr>\n",
              "    <tr>\n",
              "      <th>PAYMENTS</th>\n",
              "      <td>2913.08</td>\n",
              "    </tr>\n",
              "    <tr>\n",
              "      <th>MINIMUM_PAYMENTS</th>\n",
              "      <td>267.052</td>\n",
              "    </tr>\n",
              "    <tr>\n",
              "      <th>PRC_FULL_PAYMENT</th>\n",
              "      <td>0</td>\n",
              "    </tr>\n",
              "    <tr>\n",
              "      <th>TENURE</th>\n",
              "      <td>12</td>\n",
              "    </tr>\n",
              "  </tbody>\n",
              "</table>\n",
              "</div>"
            ],
            "text/plain": [
              "                                     3301\n",
              "CUST_ID                            C13395\n",
              "BALANCE                           926.219\n",
              "BALANCE_FREQUENCY                       1\n",
              "PURCHASES                         1218.92\n",
              "ONEOFF_PURCHASES                        0\n",
              "INSTALLMENTS_PURCHASES            1218.92\n",
              "CASH_ADVANCE                            0\n",
              "PURCHASES_FREQUENCY                     1\n",
              "ONEOFF_PURCHASES_FREQUENCY              0\n",
              "PURCHASES_INSTALLMENTS_FREQUENCY        1\n",
              "CASH_ADVANCE_FREQUENCY                  0\n",
              "CASH_ADVANCE_TRX                        0\n",
              "PURCHASES_TRX                          18\n",
              "CREDIT_LIMIT                        13000\n",
              "PAYMENTS                          2913.08\n",
              "MINIMUM_PAYMENTS                  267.052\n",
              "PRC_FULL_PAYMENT                        0\n",
              "TENURE                                 12"
            ]
          },
          "metadata": {},
          "execution_count": 33
        }
      ]
    },
    {
      "cell_type": "markdown",
      "metadata": {
        "id": "FqISaBt49bWX"
      },
      "source": [
        "# 1. Data Description"
      ]
    },
    {
      "cell_type": "code",
      "metadata": {
        "id": "gsQdQWkt_dRW"
      },
      "source": [
        "df1 = df.copy()"
      ],
      "execution_count": 34,
      "outputs": []
    },
    {
      "cell_type": "markdown",
      "metadata": {
        "id": "VjvZx27Z_Wlu"
      },
      "source": [
        "## 1.1. Rename Columns"
      ]
    },
    {
      "cell_type": "code",
      "metadata": {
        "id": "up_ZgLtY_qhW"
      },
      "source": [
        "df1.columns = list(map(lambda x: x.lower(), df1.columns))"
      ],
      "execution_count": 35,
      "outputs": []
    },
    {
      "cell_type": "markdown",
      "metadata": {
        "id": "Mo2Bgj6zTw9I"
      },
      "source": [
        "## 1.2. Data Dimensions"
      ]
    },
    {
      "cell_type": "code",
      "metadata": {
        "colab": {
          "base_uri": "https://localhost:8080/"
        },
        "id": "6oHIn3c2U-1X",
        "outputId": "74c1a696-87d5-42da-8d66-c1b725d1e19c"
      },
      "source": [
        "print('Number of rows: {}'.format(df1.shape[0]))\n",
        "print('Number of columns: {}'.format(df1.shape[1]))"
      ],
      "execution_count": 36,
      "outputs": [
        {
          "output_type": "stream",
          "name": "stdout",
          "text": [
            "Number of rows: 8950\n",
            "Number of columns: 18\n"
          ]
        }
      ]
    },
    {
      "cell_type": "markdown",
      "metadata": {
        "id": "z1UwNvdrUWXX"
      },
      "source": [
        "## 1.3. Data Types"
      ]
    },
    {
      "cell_type": "code",
      "metadata": {
        "colab": {
          "base_uri": "https://localhost:8080/"
        },
        "id": "kI7SV5wVVH0f",
        "outputId": "77738acb-6406-4642-dd6e-257bbc0a71e0"
      },
      "source": [
        "df1.dtypes"
      ],
      "execution_count": 37,
      "outputs": [
        {
          "output_type": "execute_result",
          "data": {
            "text/plain": [
              "cust_id                              object\n",
              "balance                             float64\n",
              "balance_frequency                   float64\n",
              "purchases                           float64\n",
              "oneoff_purchases                    float64\n",
              "installments_purchases              float64\n",
              "cash_advance                        float64\n",
              "purchases_frequency                 float64\n",
              "oneoff_purchases_frequency          float64\n",
              "purchases_installments_frequency    float64\n",
              "cash_advance_frequency              float64\n",
              "cash_advance_trx                      int64\n",
              "purchases_trx                         int64\n",
              "credit_limit                        float64\n",
              "payments                            float64\n",
              "minimum_payments                    float64\n",
              "prc_full_payment                    float64\n",
              "tenure                                int64\n",
              "dtype: object"
            ]
          },
          "metadata": {},
          "execution_count": 37
        }
      ]
    },
    {
      "cell_type": "markdown",
      "metadata": {
        "id": "Lmzw0auFT1oI"
      },
      "source": [
        "## 1.4. Check NA"
      ]
    },
    {
      "cell_type": "code",
      "metadata": {
        "colab": {
          "base_uri": "https://localhost:8080/"
        },
        "id": "QW7yTS_JVbJX",
        "outputId": "964d7e24-ea42-49f3-a4e3-7cd608ce0ce4"
      },
      "source": [
        "df1.isna().sum()"
      ],
      "execution_count": 38,
      "outputs": [
        {
          "output_type": "execute_result",
          "data": {
            "text/plain": [
              "cust_id                               0\n",
              "balance                               0\n",
              "balance_frequency                     0\n",
              "purchases                             0\n",
              "oneoff_purchases                      0\n",
              "installments_purchases                0\n",
              "cash_advance                          0\n",
              "purchases_frequency                   0\n",
              "oneoff_purchases_frequency            0\n",
              "purchases_installments_frequency      0\n",
              "cash_advance_frequency                0\n",
              "cash_advance_trx                      0\n",
              "purchases_trx                         0\n",
              "credit_limit                          1\n",
              "payments                              0\n",
              "minimum_payments                    313\n",
              "prc_full_payment                      0\n",
              "tenure                                0\n",
              "dtype: int64"
            ]
          },
          "metadata": {},
          "execution_count": 38
        }
      ]
    },
    {
      "cell_type": "markdown",
      "metadata": {
        "id": "R1lvzW3LUryG"
      },
      "source": [
        "## 1.5. Replace NA"
      ]
    },
    {
      "cell_type": "code",
      "metadata": {
        "colab": {
          "base_uri": "https://localhost:8080/"
        },
        "id": "mywIyazjVf4f",
        "outputId": "6014fbb2-90f7-49bb-c6af-9749b792a7c3"
      },
      "source": [
        "# remove NA\n",
        "df1.dropna(inplace=True)\n",
        "print('Number of rows: {}'.format(df1.shape[0]))\n",
        "print('Removed data: {:.2f}%'.format(1-(df1.shape[0]/df.shape[0])))"
      ],
      "execution_count": 39,
      "outputs": [
        {
          "output_type": "stream",
          "name": "stdout",
          "text": [
            "Number of rows: 8636\n",
            "Removed data: 0.04%\n"
          ]
        }
      ]
    },
    {
      "cell_type": "markdown",
      "metadata": {
        "id": "F9sZFYwTUr7P"
      },
      "source": [
        "## 1.6. Change dtypes"
      ]
    },
    {
      "cell_type": "markdown",
      "metadata": {
        "id": "A3br8iRzUsDv"
      },
      "source": [
        "## 1.7. Descriptive Statistics"
      ]
    },
    {
      "cell_type": "markdown",
      "metadata": {
        "id": "t709IWDY9bZP"
      },
      "source": [
        "# 2. Feature Engineering"
      ]
    },
    {
      "cell_type": "code",
      "metadata": {
        "id": "nyPZmbxj-dUt"
      },
      "source": [
        "df2 = df1.copy()"
      ],
      "execution_count": 40,
      "outputs": []
    },
    {
      "cell_type": "markdown",
      "metadata": {
        "id": "v1Qd5kJrWYq_"
      },
      "source": [
        "## 2.1. Feature Creation"
      ]
    },
    {
      "cell_type": "code",
      "metadata": {
        "colab": {
          "base_uri": "https://localhost:8080/",
          "height": 607
        },
        "id": "OP7v5nVyWRkG",
        "outputId": "2ea442fb-8d4f-404e-86e4-0e415f4c3ed8"
      },
      "source": [
        "df2.sample(5).T"
      ],
      "execution_count": 41,
      "outputs": [
        {
          "output_type": "execute_result",
          "data": {
            "text/html": [
              "<div>\n",
              "<style scoped>\n",
              "    .dataframe tbody tr th:only-of-type {\n",
              "        vertical-align: middle;\n",
              "    }\n",
              "\n",
              "    .dataframe tbody tr th {\n",
              "        vertical-align: top;\n",
              "    }\n",
              "\n",
              "    .dataframe thead th {\n",
              "        text-align: right;\n",
              "    }\n",
              "</style>\n",
              "<table border=\"1\" class=\"dataframe\">\n",
              "  <thead>\n",
              "    <tr style=\"text-align: right;\">\n",
              "      <th></th>\n",
              "      <th>4526</th>\n",
              "      <th>7553</th>\n",
              "      <th>2032</th>\n",
              "      <th>8812</th>\n",
              "      <th>6109</th>\n",
              "    </tr>\n",
              "  </thead>\n",
              "  <tbody>\n",
              "    <tr>\n",
              "      <th>cust_id</th>\n",
              "      <td>C14651</td>\n",
              "      <td>C17757</td>\n",
              "      <td>C12095</td>\n",
              "      <td>C19052</td>\n",
              "      <td>C16280</td>\n",
              "    </tr>\n",
              "    <tr>\n",
              "      <th>balance</th>\n",
              "      <td>1226.15</td>\n",
              "      <td>2017.39</td>\n",
              "      <td>1666.22</td>\n",
              "      <td>8.54964</td>\n",
              "      <td>746.979</td>\n",
              "    </tr>\n",
              "    <tr>\n",
              "      <th>balance_frequency</th>\n",
              "      <td>1</td>\n",
              "      <td>1</td>\n",
              "      <td>1</td>\n",
              "      <td>0.4</td>\n",
              "      <td>1</td>\n",
              "    </tr>\n",
              "    <tr>\n",
              "      <th>purchases</th>\n",
              "      <td>0</td>\n",
              "      <td>12024.4</td>\n",
              "      <td>720.48</td>\n",
              "      <td>0</td>\n",
              "      <td>2341.08</td>\n",
              "    </tr>\n",
              "    <tr>\n",
              "      <th>oneoff_purchases</th>\n",
              "      <td>0</td>\n",
              "      <td>11224.1</td>\n",
              "      <td>0</td>\n",
              "      <td>0</td>\n",
              "      <td>1953.84</td>\n",
              "    </tr>\n",
              "    <tr>\n",
              "      <th>installments_purchases</th>\n",
              "      <td>0</td>\n",
              "      <td>800.27</td>\n",
              "      <td>720.48</td>\n",
              "      <td>0</td>\n",
              "      <td>387.24</td>\n",
              "    </tr>\n",
              "    <tr>\n",
              "      <th>cash_advance</th>\n",
              "      <td>275.602</td>\n",
              "      <td>0</td>\n",
              "      <td>1143.15</td>\n",
              "      <td>56.3395</td>\n",
              "      <td>0</td>\n",
              "    </tr>\n",
              "    <tr>\n",
              "      <th>purchases_frequency</th>\n",
              "      <td>0</td>\n",
              "      <td>1</td>\n",
              "      <td>0.833333</td>\n",
              "      <td>0</td>\n",
              "      <td>1</td>\n",
              "    </tr>\n",
              "    <tr>\n",
              "      <th>oneoff_purchases_frequency</th>\n",
              "      <td>0</td>\n",
              "      <td>1</td>\n",
              "      <td>0</td>\n",
              "      <td>0</td>\n",
              "      <td>0.416667</td>\n",
              "    </tr>\n",
              "    <tr>\n",
              "      <th>purchases_installments_frequency</th>\n",
              "      <td>0</td>\n",
              "      <td>0.5</td>\n",
              "      <td>0.75</td>\n",
              "      <td>0</td>\n",
              "      <td>1</td>\n",
              "    </tr>\n",
              "    <tr>\n",
              "      <th>cash_advance_frequency</th>\n",
              "      <td>0.166667</td>\n",
              "      <td>0</td>\n",
              "      <td>0.083333</td>\n",
              "      <td>0.1</td>\n",
              "      <td>0</td>\n",
              "    </tr>\n",
              "    <tr>\n",
              "      <th>cash_advance_trx</th>\n",
              "      <td>5</td>\n",
              "      <td>0</td>\n",
              "      <td>2</td>\n",
              "      <td>1</td>\n",
              "      <td>0</td>\n",
              "    </tr>\n",
              "    <tr>\n",
              "      <th>purchases_trx</th>\n",
              "      <td>0</td>\n",
              "      <td>133</td>\n",
              "      <td>15</td>\n",
              "      <td>0</td>\n",
              "      <td>59</td>\n",
              "    </tr>\n",
              "    <tr>\n",
              "      <th>credit_limit</th>\n",
              "      <td>1200</td>\n",
              "      <td>8000</td>\n",
              "      <td>2300</td>\n",
              "      <td>1200</td>\n",
              "      <td>2000</td>\n",
              "    </tr>\n",
              "    <tr>\n",
              "      <th>payments</th>\n",
              "      <td>797.03</td>\n",
              "      <td>11516.4</td>\n",
              "      <td>2473.62</td>\n",
              "      <td>149.134</td>\n",
              "      <td>736.003</td>\n",
              "    </tr>\n",
              "    <tr>\n",
              "      <th>minimum_payments</th>\n",
              "      <td>1026.51</td>\n",
              "      <td>556.651</td>\n",
              "      <td>462.38</td>\n",
              "      <td>70.9372</td>\n",
              "      <td>241.955</td>\n",
              "    </tr>\n",
              "    <tr>\n",
              "      <th>prc_full_payment</th>\n",
              "      <td>0</td>\n",
              "      <td>0.333333</td>\n",
              "      <td>0.083333</td>\n",
              "      <td>0.5</td>\n",
              "      <td>0</td>\n",
              "    </tr>\n",
              "    <tr>\n",
              "      <th>tenure</th>\n",
              "      <td>12</td>\n",
              "      <td>12</td>\n",
              "      <td>12</td>\n",
              "      <td>10</td>\n",
              "      <td>12</td>\n",
              "    </tr>\n",
              "  </tbody>\n",
              "</table>\n",
              "</div>"
            ],
            "text/plain": [
              "                                      4526      7553  ...     8812      6109\n",
              "cust_id                             C14651    C17757  ...   C19052    C16280\n",
              "balance                            1226.15   2017.39  ...  8.54964   746.979\n",
              "balance_frequency                        1         1  ...      0.4         1\n",
              "purchases                                0   12024.4  ...        0   2341.08\n",
              "oneoff_purchases                         0   11224.1  ...        0   1953.84\n",
              "installments_purchases                   0    800.27  ...        0    387.24\n",
              "cash_advance                       275.602         0  ...  56.3395         0\n",
              "purchases_frequency                      0         1  ...        0         1\n",
              "oneoff_purchases_frequency               0         1  ...        0  0.416667\n",
              "purchases_installments_frequency         0       0.5  ...        0         1\n",
              "cash_advance_frequency            0.166667         0  ...      0.1         0\n",
              "cash_advance_trx                         5         0  ...        1         0\n",
              "purchases_trx                            0       133  ...        0        59\n",
              "credit_limit                          1200      8000  ...     1200      2000\n",
              "payments                            797.03   11516.4  ...  149.134   736.003\n",
              "minimum_payments                   1026.51   556.651  ...  70.9372   241.955\n",
              "prc_full_payment                         0  0.333333  ...      0.5         0\n",
              "tenure                                  12        12  ...       10        12\n",
              "\n",
              "[18 rows x 5 columns]"
            ]
          },
          "metadata": {},
          "execution_count": 41
        }
      ]
    },
    {
      "cell_type": "code",
      "metadata": {
        "id": "pvxwoh3sa1MN"
      },
      "source": [
        "# data reference\n",
        "df_ref = pd.DataFrame(df2['cust_id'])\n",
        "\n",
        "# recency\n",
        "df_ref['recency'] = df2['purchases_frequency']\n",
        "df_ref['recency'] = df_ref['recency'].map(mirroring)\n",
        "\n",
        "# frequency\n",
        "df_ref['frequency'] = df2['purchases_trx']\n",
        "\n",
        "# monetary\n",
        "df_ref['monetary'] = df2['cash_advance']\n",
        "\n",
        "# balance\n",
        "df_ref['balance'] = df2['balance']"
      ],
      "execution_count": 42,
      "outputs": []
    },
    {
      "cell_type": "code",
      "metadata": {
        "colab": {
          "base_uri": "https://localhost:8080/",
          "height": 204
        },
        "id": "SZFVwY1cmZ-a",
        "outputId": "9cdbf16c-5a1c-47fe-e4a8-24e90f010a78"
      },
      "source": [
        "df_ref.sample().T"
      ],
      "execution_count": 43,
      "outputs": [
        {
          "output_type": "execute_result",
          "data": {
            "text/html": [
              "<div>\n",
              "<style scoped>\n",
              "    .dataframe tbody tr th:only-of-type {\n",
              "        vertical-align: middle;\n",
              "    }\n",
              "\n",
              "    .dataframe tbody tr th {\n",
              "        vertical-align: top;\n",
              "    }\n",
              "\n",
              "    .dataframe thead th {\n",
              "        text-align: right;\n",
              "    }\n",
              "</style>\n",
              "<table border=\"1\" class=\"dataframe\">\n",
              "  <thead>\n",
              "    <tr style=\"text-align: right;\">\n",
              "      <th></th>\n",
              "      <th>8069</th>\n",
              "    </tr>\n",
              "  </thead>\n",
              "  <tbody>\n",
              "    <tr>\n",
              "      <th>cust_id</th>\n",
              "      <td>C18287</td>\n",
              "    </tr>\n",
              "    <tr>\n",
              "      <th>recency</th>\n",
              "      <td>1</td>\n",
              "    </tr>\n",
              "    <tr>\n",
              "      <th>frequency</th>\n",
              "      <td>0</td>\n",
              "    </tr>\n",
              "    <tr>\n",
              "      <th>monetary</th>\n",
              "      <td>1098.29</td>\n",
              "    </tr>\n",
              "    <tr>\n",
              "      <th>balance</th>\n",
              "      <td>1001.44</td>\n",
              "    </tr>\n",
              "  </tbody>\n",
              "</table>\n",
              "</div>"
            ],
            "text/plain": [
              "              8069\n",
              "cust_id     C18287\n",
              "recency          1\n",
              "frequency        0\n",
              "monetary   1098.29\n",
              "balance    1001.44"
            ]
          },
          "metadata": {},
          "execution_count": 43
        }
      ]
    },
    {
      "cell_type": "markdown",
      "metadata": {
        "id": "nPBXKpfU9bcp"
      },
      "source": [
        "# 3. Feature Filtering"
      ]
    },
    {
      "cell_type": "code",
      "metadata": {
        "id": "SVzRpWhr-dnm"
      },
      "source": [
        "df3 = df_ref.copy()"
      ],
      "execution_count": 44,
      "outputs": []
    },
    {
      "cell_type": "markdown",
      "metadata": {
        "id": "_PVALd2d9bf3"
      },
      "source": [
        "# 4. EDA (Exploratory Data Analysis)"
      ]
    },
    {
      "cell_type": "code",
      "metadata": {
        "id": "WVv1oJnQ-dzW"
      },
      "source": [
        "df4 = df3.copy()"
      ],
      "execution_count": 45,
      "outputs": []
    },
    {
      "cell_type": "markdown",
      "metadata": {
        "id": "B9QVG7Dm9bjI"
      },
      "source": [
        "# 5. Data Preparation"
      ]
    },
    {
      "cell_type": "code",
      "metadata": {
        "id": "8fcoWFSi-d9m"
      },
      "source": [
        "df5 = df4.copy()"
      ],
      "execution_count": 46,
      "outputs": []
    },
    {
      "cell_type": "markdown",
      "metadata": {
        "id": "CMHd8VoQ9bmW"
      },
      "source": [
        "# 6. Feature Selection"
      ]
    },
    {
      "cell_type": "code",
      "metadata": {
        "id": "_3bLzLsY-eGg"
      },
      "source": [
        "df6 = df5.copy()"
      ],
      "execution_count": 47,
      "outputs": []
    },
    {
      "cell_type": "markdown",
      "metadata": {
        "id": "rm7dUHph9bp4"
      },
      "source": [
        "# 7. Hyperparameter Fine-Tunning"
      ]
    },
    {
      "cell_type": "code",
      "metadata": {
        "id": "YvMlw7_3-ePn"
      },
      "source": [
        "X = df6.drop('cust_id',axis=1)"
      ],
      "execution_count": 56,
      "outputs": []
    },
    {
      "cell_type": "code",
      "metadata": {
        "id": "DCLxt0b7KTdz"
      },
      "source": [
        "clusters = [2,3,4,5,6]"
      ],
      "execution_count": 60,
      "outputs": []
    },
    {
      "cell_type": "markdown",
      "metadata": {
        "id": "CnuEeRPGJZ-b"
      },
      "source": [
        "## 7.1. Within-Cluster Sum of Square (WSS)"
      ]
    },
    {
      "cell_type": "code",
      "metadata": {
        "id": "1uUhi6IzPkFI"
      },
      "source": [
        ""
      ],
      "execution_count": null,
      "outputs": []
    },
    {
      "cell_type": "markdown",
      "metadata": {
        "id": "nvULWVDJJgLC"
      },
      "source": [
        "## 7.2. Sillhouette Score"
      ]
    },
    {
      "cell_type": "code",
      "metadata": {
        "colab": {
          "base_uri": "https://localhost:8080/",
          "height": 415
        },
        "id": "Nun4_P3YJfmi",
        "outputId": "4d6d13db-4ecd-4d1d-f87c-077a4101488e"
      },
      "source": [
        "kmeans = KElbowVisualizer(KMeans(),k=clusters, metric='silhouette',timings=False)\n",
        "kmeans.fit(X)"
      ],
      "execution_count": 62,
      "outputs": [
        {
          "output_type": "stream",
          "name": "stderr",
          "text": [
            "/usr/local/lib/python3.7/dist-packages/sklearn/base.py:197: FutureWarning: From version 0.24, get_params will raise an AttributeError if a parameter cannot be retrieved as an instance attribute. Previously it would return None.\n",
            "  FutureWarning)\n"
          ]
        },
        {
          "output_type": "execute_result",
          "data": {
            "text/plain": [
              "KElbowVisualizer(ax=<matplotlib.axes._subplots.AxesSubplot object at 0x7f3df8eacb10>,\n",
              "                 k=None, metric=None, model=None, timings=False)"
            ]
          },
          "metadata": {},
          "execution_count": 62
        },
        {
          "output_type": "display_data",
          "data": {
            "image/png": "[encoded data removed]",
            "text/plain": [
              "<Figure size 576x396 with 1 Axes>"
            ]
          },
          "metadata": {}
        }
      ]
    },
    {
      "cell_type": "markdown",
      "metadata": {
        "id": "2qgPVviD9btH"
      },
      "source": [
        "# 8. Model Training"
      ]
    },
    {
      "cell_type": "code",
      "metadata": {
        "id": "FtScggNA-eZv"
      },
      "source": [
        ""
      ],
      "execution_count": 50,
      "outputs": []
    },
    {
      "cell_type": "markdown",
      "metadata": {
        "id": "47PVTA7A9bwn"
      },
      "source": [
        "# 9. Cluster Analysis"
      ]
    },
    {
      "cell_type": "code",
      "metadata": {
        "id": "MT7Ry1Zi-epe"
      },
      "source": [
        ""
      ],
      "execution_count": 50,
      "outputs": []
    }
  ]
}