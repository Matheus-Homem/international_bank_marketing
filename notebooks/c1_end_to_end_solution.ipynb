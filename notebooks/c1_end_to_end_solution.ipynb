{
  "nbformat": 4,
  "nbformat_minor": 0,
  "metadata": {
    "colab": {
      "name": "c1_end_to_end_solution.ipynb",
      "provenance": [],
      "authorship_tag": "ABX9TyMCZnMQgOEqDr9uINphcllN",
      "include_colab_link": true
    },
    "kernelspec": {
      "name": "python3",
      "display_name": "Python 3"
    },
    "language_info": {
      "name": "python"
    }
  },
  "cells": [
    {
      "cell_type": "markdown",
      "metadata": {
        "id": "view-in-github",
        "colab_type": "text"
      },
      "source": [
        "<a href=\"https://colab.research.google.com/github/Matheus-Homem/international_bank_marketing/blob/main/notebooks/c1_end_to_end_solution.ipynb\" target=\"_parent\"><img src=\"https://colab.research.google.com/assets/colab-badge.svg\" alt=\"Open In Colab\"/></a>"
      ]
    },
    {
      "cell_type": "markdown",
      "metadata": {
        "id": "hLtZkN199bN_"
      },
      "source": [
        "# 0. Imports"
      ]
    },
    {
      "cell_type": "markdown",
      "metadata": {
        "id": "SWDob6Yr-vam"
      },
      "source": [
        "## 0.1. Libraries"
      ]
    },
    {
      "cell_type": "code",
      "metadata": {
        "id": "0QSS8gEm-bqm"
      },
      "source": [
        "import numpy as np\n",
        "import pandas as pd\n",
        "import seaborn as sns\n",
        "from matplotlib import pyplot as plt\n",
        "from math import gcd\n",
        "import decimal\n",
        "from functools import reduce"
      ],
      "execution_count": 35,
      "outputs": []
    },
    {
      "cell_type": "markdown",
      "metadata": {
        "id": "c3SMtYQ-nxwK"
      },
      "source": [
        "## 0.2. Helper Functions"
      ]
    },
    {
      "cell_type": "code",
      "metadata": {
        "id": "RWlqJQn9n0Op"
      },
      "source": [
        "def mirroring(x):\n",
        "  x += (.5 - x)*2\n",
        "  return x"
      ],
      "execution_count": 63,
      "outputs": []
    },
    {
      "cell_type": "markdown",
      "metadata": {
        "id": "U4xmd0AY-4MX"
      },
      "source": [
        "## 0.3. Load Dataset"
      ]
    },
    {
      "cell_type": "code",
      "metadata": {
        "id": "8mcCyc8k-_zG"
      },
      "source": [
        "df = pd.read_csv('https://github.com/Matheus-Homem/international_bank_marketing/raw/main/data/CC%20GENERAL.csv')"
      ],
      "execution_count": 2,
      "outputs": []
    },
    {
      "cell_type": "code",
      "metadata": {
        "colab": {
          "base_uri": "https://localhost:8080/",
          "height": 607
        },
        "id": "zUDm6rI0_FOe",
        "outputId": "3cda0c0e-944b-4438-98f2-4beafa0557f2"
      },
      "source": [
        "df.sample().T"
      ],
      "execution_count": 4,
      "outputs": [
        {
          "output_type": "execute_result",
          "data": {
            "text/html": [
              "<div>\n",
              "<style scoped>\n",
              "    .dataframe tbody tr th:only-of-type {\n",
              "        vertical-align: middle;\n",
              "    }\n",
              "\n",
              "    .dataframe tbody tr th {\n",
              "        vertical-align: top;\n",
              "    }\n",
              "\n",
              "    .dataframe thead th {\n",
              "        text-align: right;\n",
              "    }\n",
              "</style>\n",
              "<table border=\"1\" class=\"dataframe\">\n",
              "  <thead>\n",
              "    <tr style=\"text-align: right;\">\n",
              "      <th></th>\n",
              "      <th>2745</th>\n",
              "    </tr>\n",
              "  </thead>\n",
              "  <tbody>\n",
              "    <tr>\n",
              "      <th>CUST_ID</th>\n",
              "      <td>C12824</td>\n",
              "    </tr>\n",
              "    <tr>\n",
              "      <th>BALANCE</th>\n",
              "      <td>2316</td>\n",
              "    </tr>\n",
              "    <tr>\n",
              "      <th>BALANCE_FREQUENCY</th>\n",
              "      <td>1</td>\n",
              "    </tr>\n",
              "    <tr>\n",
              "      <th>PURCHASES</th>\n",
              "      <td>3643.93</td>\n",
              "    </tr>\n",
              "    <tr>\n",
              "      <th>ONEOFF_PURCHASES</th>\n",
              "      <td>2971.8</td>\n",
              "    </tr>\n",
              "    <tr>\n",
              "      <th>INSTALLMENTS_PURCHASES</th>\n",
              "      <td>672.13</td>\n",
              "    </tr>\n",
              "    <tr>\n",
              "      <th>CASH_ADVANCE</th>\n",
              "      <td>780.459</td>\n",
              "    </tr>\n",
              "    <tr>\n",
              "      <th>PURCHASES_FREQUENCY</th>\n",
              "      <td>0.916667</td>\n",
              "    </tr>\n",
              "    <tr>\n",
              "      <th>ONEOFF_PURCHASES_FREQUENCY</th>\n",
              "      <td>0.583333</td>\n",
              "    </tr>\n",
              "    <tr>\n",
              "      <th>PURCHASES_INSTALLMENTS_FREQUENCY</th>\n",
              "      <td>0.833333</td>\n",
              "    </tr>\n",
              "    <tr>\n",
              "      <th>CASH_ADVANCE_FREQUENCY</th>\n",
              "      <td>0.083333</td>\n",
              "    </tr>\n",
              "    <tr>\n",
              "      <th>CASH_ADVANCE_TRX</th>\n",
              "      <td>1</td>\n",
              "    </tr>\n",
              "    <tr>\n",
              "      <th>PURCHASES_TRX</th>\n",
              "      <td>36</td>\n",
              "    </tr>\n",
              "    <tr>\n",
              "      <th>CREDIT_LIMIT</th>\n",
              "      <td>7500</td>\n",
              "    </tr>\n",
              "    <tr>\n",
              "      <th>PAYMENTS</th>\n",
              "      <td>1256.7</td>\n",
              "    </tr>\n",
              "    <tr>\n",
              "      <th>MINIMUM_PAYMENTS</th>\n",
              "      <td>680.435</td>\n",
              "    </tr>\n",
              "    <tr>\n",
              "      <th>PRC_FULL_PAYMENT</th>\n",
              "      <td>0</td>\n",
              "    </tr>\n",
              "    <tr>\n",
              "      <th>TENURE</th>\n",
              "      <td>12</td>\n",
              "    </tr>\n",
              "  </tbody>\n",
              "</table>\n",
              "</div>"
            ],
            "text/plain": [
              "                                      2745\n",
              "CUST_ID                             C12824\n",
              "BALANCE                               2316\n",
              "BALANCE_FREQUENCY                        1\n",
              "PURCHASES                          3643.93\n",
              "ONEOFF_PURCHASES                    2971.8\n",
              "INSTALLMENTS_PURCHASES              672.13\n",
              "CASH_ADVANCE                       780.459\n",
              "PURCHASES_FREQUENCY               0.916667\n",
              "ONEOFF_PURCHASES_FREQUENCY        0.583333\n",
              "PURCHASES_INSTALLMENTS_FREQUENCY  0.833333\n",
              "CASH_ADVANCE_FREQUENCY            0.083333\n",
              "CASH_ADVANCE_TRX                         1\n",
              "PURCHASES_TRX                           36\n",
              "CREDIT_LIMIT                          7500\n",
              "PAYMENTS                            1256.7\n",
              "MINIMUM_PAYMENTS                   680.435\n",
              "PRC_FULL_PAYMENT                         0\n",
              "TENURE                                  12"
            ]
          },
          "metadata": {},
          "execution_count": 4
        }
      ]
    },
    {
      "cell_type": "markdown",
      "metadata": {
        "id": "FqISaBt49bWX"
      },
      "source": [
        "# 1. Data Description"
      ]
    },
    {
      "cell_type": "code",
      "metadata": {
        "id": "gsQdQWkt_dRW"
      },
      "source": [
        "df1 = df.copy()"
      ],
      "execution_count": 5,
      "outputs": []
    },
    {
      "cell_type": "markdown",
      "metadata": {
        "id": "VjvZx27Z_Wlu"
      },
      "source": [
        "## 1.1. Rename Columns"
      ]
    },
    {
      "cell_type": "code",
      "metadata": {
        "id": "up_ZgLtY_qhW"
      },
      "source": [
        "df1.columns = list(map(lambda x: x.lower(), df1.columns))"
      ],
      "execution_count": 8,
      "outputs": []
    },
    {
      "cell_type": "markdown",
      "metadata": {
        "id": "Mo2Bgj6zTw9I"
      },
      "source": [
        "## 1.2. Data Dimensions"
      ]
    },
    {
      "cell_type": "code",
      "metadata": {
        "colab": {
          "base_uri": "https://localhost:8080/"
        },
        "id": "6oHIn3c2U-1X",
        "outputId": "454db09a-c13a-4db8-a64c-7381870f8523"
      },
      "source": [
        "print('Number of rows: {}'.format(df1.shape[0]))\n",
        "print('Number of columns: {}'.format(df1.shape[1]))"
      ],
      "execution_count": 10,
      "outputs": [
        {
          "output_type": "stream",
          "name": "stdout",
          "text": [
            "Number of rows: 8950\n",
            "Number of columns: 18\n"
          ]
        }
      ]
    },
    {
      "cell_type": "markdown",
      "metadata": {
        "id": "z1UwNvdrUWXX"
      },
      "source": [
        "## 1.3. Data Types"
      ]
    },
    {
      "cell_type": "code",
      "metadata": {
        "colab": {
          "base_uri": "https://localhost:8080/"
        },
        "id": "kI7SV5wVVH0f",
        "outputId": "d4c0b83e-2029-4425-dee3-bc748ba2eebb"
      },
      "source": [
        "df1.dtypes"
      ],
      "execution_count": 11,
      "outputs": [
        {
          "output_type": "execute_result",
          "data": {
            "text/plain": [
              "cust_id                              object\n",
              "balance                             float64\n",
              "balance_frequency                   float64\n",
              "purchases                           float64\n",
              "oneoff_purchases                    float64\n",
              "installments_purchases              float64\n",
              "cash_advance                        float64\n",
              "purchases_frequency                 float64\n",
              "oneoff_purchases_frequency          float64\n",
              "purchases_installments_frequency    float64\n",
              "cash_advance_frequency              float64\n",
              "cash_advance_trx                      int64\n",
              "purchases_trx                         int64\n",
              "credit_limit                        float64\n",
              "payments                            float64\n",
              "minimum_payments                    float64\n",
              "prc_full_payment                    float64\n",
              "tenure                                int64\n",
              "dtype: object"
            ]
          },
          "metadata": {},
          "execution_count": 11
        }
      ]
    },
    {
      "cell_type": "markdown",
      "metadata": {
        "id": "Lmzw0auFT1oI"
      },
      "source": [
        "## 1.4. Check NA"
      ]
    },
    {
      "cell_type": "code",
      "metadata": {
        "colab": {
          "base_uri": "https://localhost:8080/"
        },
        "id": "QW7yTS_JVbJX",
        "outputId": "5fc86bd0-8f11-4829-8193-a8e7595c7975"
      },
      "source": [
        "df1.isna().sum()"
      ],
      "execution_count": 12,
      "outputs": [
        {
          "output_type": "execute_result",
          "data": {
            "text/plain": [
              "cust_id                               0\n",
              "balance                               0\n",
              "balance_frequency                     0\n",
              "purchases                             0\n",
              "oneoff_purchases                      0\n",
              "installments_purchases                0\n",
              "cash_advance                          0\n",
              "purchases_frequency                   0\n",
              "oneoff_purchases_frequency            0\n",
              "purchases_installments_frequency      0\n",
              "cash_advance_frequency                0\n",
              "cash_advance_trx                      0\n",
              "purchases_trx                         0\n",
              "credit_limit                          1\n",
              "payments                              0\n",
              "minimum_payments                    313\n",
              "prc_full_payment                      0\n",
              "tenure                                0\n",
              "dtype: int64"
            ]
          },
          "metadata": {},
          "execution_count": 12
        }
      ]
    },
    {
      "cell_type": "markdown",
      "metadata": {
        "id": "R1lvzW3LUryG"
      },
      "source": [
        "## 1.5. Replace NA"
      ]
    },
    {
      "cell_type": "code",
      "metadata": {
        "colab": {
          "base_uri": "https://localhost:8080/"
        },
        "id": "mywIyazjVf4f",
        "outputId": "c68309bb-f67d-4689-f1ff-97e4deeea011"
      },
      "source": [
        "# remove NA\n",
        "df1.dropna(inplace=True)\n",
        "print('Number of rows: {}'.format(df1.shape[0]))\n",
        "print('Removed data: {:.2f}%'.format(1-(df1.shape[0]/df.shape[0])))"
      ],
      "execution_count": 15,
      "outputs": [
        {
          "output_type": "stream",
          "name": "stdout",
          "text": [
            "Number of rows: 8636\n",
            "Removed data: 0.04%\n"
          ]
        }
      ]
    },
    {
      "cell_type": "markdown",
      "metadata": {
        "id": "F9sZFYwTUr7P"
      },
      "source": [
        "## 1.6. Change dtypes"
      ]
    },
    {
      "cell_type": "markdown",
      "metadata": {
        "id": "A3br8iRzUsDv"
      },
      "source": [
        "## 1.7. Descriptive Statistics"
      ]
    },
    {
      "cell_type": "markdown",
      "metadata": {
        "id": "t709IWDY9bZP"
      },
      "source": [
        "# 2. Feature Engineering"
      ]
    },
    {
      "cell_type": "code",
      "metadata": {
        "id": "nyPZmbxj-dUt"
      },
      "source": [
        "df2 = df1.copy()"
      ],
      "execution_count": 16,
      "outputs": []
    },
    {
      "cell_type": "markdown",
      "metadata": {
        "id": "v1Qd5kJrWYq_"
      },
      "source": [
        "## 2.1. Feature Creation"
      ]
    },
    {
      "cell_type": "code",
      "metadata": {
        "colab": {
          "base_uri": "https://localhost:8080/",
          "height": 607
        },
        "id": "OP7v5nVyWRkG",
        "outputId": "02949071-8105-400e-bba6-01ebfb1f7f0e"
      },
      "source": [
        "df2.sample(5).T"
      ],
      "execution_count": 18,
      "outputs": [
        {
          "output_type": "execute_result",
          "data": {
            "text/html": [
              "<div>\n",
              "<style scoped>\n",
              "    .dataframe tbody tr th:only-of-type {\n",
              "        vertical-align: middle;\n",
              "    }\n",
              "\n",
              "    .dataframe tbody tr th {\n",
              "        vertical-align: top;\n",
              "    }\n",
              "\n",
              "    .dataframe thead th {\n",
              "        text-align: right;\n",
              "    }\n",
              "</style>\n",
              "<table border=\"1\" class=\"dataframe\">\n",
              "  <thead>\n",
              "    <tr style=\"text-align: right;\">\n",
              "      <th></th>\n",
              "      <th>251</th>\n",
              "      <th>7611</th>\n",
              "      <th>4702</th>\n",
              "      <th>116</th>\n",
              "      <th>3025</th>\n",
              "    </tr>\n",
              "  </thead>\n",
              "  <tbody>\n",
              "    <tr>\n",
              "      <th>cust_id</th>\n",
              "      <td>C10260</td>\n",
              "      <td>C17817</td>\n",
              "      <td>C14830</td>\n",
              "      <td>C10121</td>\n",
              "      <td>C13114</td>\n",
              "    </tr>\n",
              "    <tr>\n",
              "      <th>balance</th>\n",
              "      <td>996.482</td>\n",
              "      <td>1688.25</td>\n",
              "      <td>507.077</td>\n",
              "      <td>223.764</td>\n",
              "      <td>72.5181</td>\n",
              "    </tr>\n",
              "    <tr>\n",
              "      <th>balance_frequency</th>\n",
              "      <td>1</td>\n",
              "      <td>1</td>\n",
              "      <td>0.857143</td>\n",
              "      <td>0.636364</td>\n",
              "      <td>1</td>\n",
              "    </tr>\n",
              "    <tr>\n",
              "      <th>purchases</th>\n",
              "      <td>675.96</td>\n",
              "      <td>1937.64</td>\n",
              "      <td>0</td>\n",
              "      <td>2309.78</td>\n",
              "      <td>525</td>\n",
              "    </tr>\n",
              "    <tr>\n",
              "      <th>oneoff_purchases</th>\n",
              "      <td>0</td>\n",
              "      <td>928.18</td>\n",
              "      <td>0</td>\n",
              "      <td>0</td>\n",
              "      <td>0</td>\n",
              "    </tr>\n",
              "    <tr>\n",
              "      <th>installments_purchases</th>\n",
              "      <td>675.96</td>\n",
              "      <td>1009.46</td>\n",
              "      <td>0</td>\n",
              "      <td>2309.78</td>\n",
              "      <td>525</td>\n",
              "    </tr>\n",
              "    <tr>\n",
              "      <th>cash_advance</th>\n",
              "      <td>0</td>\n",
              "      <td>967.811</td>\n",
              "      <td>1391.14</td>\n",
              "      <td>0</td>\n",
              "      <td>0</td>\n",
              "    </tr>\n",
              "    <tr>\n",
              "      <th>purchases_frequency</th>\n",
              "      <td>1</td>\n",
              "      <td>0.818182</td>\n",
              "      <td>0</td>\n",
              "      <td>0.583333</td>\n",
              "      <td>1</td>\n",
              "    </tr>\n",
              "    <tr>\n",
              "      <th>oneoff_purchases_frequency</th>\n",
              "      <td>0</td>\n",
              "      <td>0.454545</td>\n",
              "      <td>0</td>\n",
              "      <td>0</td>\n",
              "      <td>0</td>\n",
              "    </tr>\n",
              "    <tr>\n",
              "      <th>purchases_installments_frequency</th>\n",
              "      <td>1</td>\n",
              "      <td>0.545455</td>\n",
              "      <td>0</td>\n",
              "      <td>0.5</td>\n",
              "      <td>1</td>\n",
              "    </tr>\n",
              "    <tr>\n",
              "      <th>cash_advance_frequency</th>\n",
              "      <td>0</td>\n",
              "      <td>0.454545</td>\n",
              "      <td>0.142857</td>\n",
              "      <td>0</td>\n",
              "      <td>0</td>\n",
              "    </tr>\n",
              "    <tr>\n",
              "      <th>cash_advance_trx</th>\n",
              "      <td>0</td>\n",
              "      <td>16</td>\n",
              "      <td>2</td>\n",
              "      <td>0</td>\n",
              "      <td>0</td>\n",
              "    </tr>\n",
              "    <tr>\n",
              "      <th>purchases_trx</th>\n",
              "      <td>12</td>\n",
              "      <td>22</td>\n",
              "      <td>0</td>\n",
              "      <td>12</td>\n",
              "      <td>12</td>\n",
              "    </tr>\n",
              "    <tr>\n",
              "      <th>credit_limit</th>\n",
              "      <td>1000</td>\n",
              "      <td>2500</td>\n",
              "      <td>1500</td>\n",
              "      <td>6500</td>\n",
              "      <td>1000</td>\n",
              "    </tr>\n",
              "    <tr>\n",
              "      <th>payments</th>\n",
              "      <td>1851.6</td>\n",
              "      <td>745.064</td>\n",
              "      <td>2104.05</td>\n",
              "      <td>1206.81</td>\n",
              "      <td>553.472</td>\n",
              "    </tr>\n",
              "    <tr>\n",
              "      <th>minimum_payments</th>\n",
              "      <td>1382.29</td>\n",
              "      <td>963.518</td>\n",
              "      <td>257.65</td>\n",
              "      <td>99.3728</td>\n",
              "      <td>181.03</td>\n",
              "    </tr>\n",
              "    <tr>\n",
              "      <th>prc_full_payment</th>\n",
              "      <td>0.083333</td>\n",
              "      <td>0</td>\n",
              "      <td>0.25</td>\n",
              "      <td>0.333333</td>\n",
              "      <td>0.4</td>\n",
              "    </tr>\n",
              "    <tr>\n",
              "      <th>tenure</th>\n",
              "      <td>12</td>\n",
              "      <td>11</td>\n",
              "      <td>7</td>\n",
              "      <td>12</td>\n",
              "      <td>12</td>\n",
              "    </tr>\n",
              "  </tbody>\n",
              "</table>\n",
              "</div>"
            ],
            "text/plain": [
              "                                      251       7611  ...      116      3025\n",
              "cust_id                             C10260    C17817  ...    C10121   C13114\n",
              "balance                            996.482   1688.25  ...   223.764  72.5181\n",
              "balance_frequency                        1         1  ...  0.636364        1\n",
              "purchases                           675.96   1937.64  ...   2309.78      525\n",
              "oneoff_purchases                         0    928.18  ...         0        0\n",
              "installments_purchases              675.96   1009.46  ...   2309.78      525\n",
              "cash_advance                             0   967.811  ...         0        0\n",
              "purchases_frequency                      1  0.818182  ...  0.583333        1\n",
              "oneoff_purchases_frequency               0  0.454545  ...         0        0\n",
              "purchases_installments_frequency         1  0.545455  ...       0.5        1\n",
              "cash_advance_frequency                   0  0.454545  ...         0        0\n",
              "cash_advance_trx                         0        16  ...         0        0\n",
              "purchases_trx                           12        22  ...        12       12\n",
              "credit_limit                          1000      2500  ...      6500     1000\n",
              "payments                            1851.6   745.064  ...   1206.81  553.472\n",
              "minimum_payments                   1382.29   963.518  ...   99.3728   181.03\n",
              "prc_full_payment                  0.083333         0  ...  0.333333      0.4\n",
              "tenure                                  12        11  ...        12       12\n",
              "\n",
              "[18 rows x 5 columns]"
            ]
          },
          "metadata": {},
          "execution_count": 18
        }
      ]
    },
    {
      "cell_type": "code",
      "metadata": {
        "id": "pvxwoh3sa1MN"
      },
      "source": [
        "# data reference\n",
        "df_ref = pd.DataFrame(df2['cust_id'])\n",
        "\n",
        "# recency\n",
        "df_ref['recency'] = df2['purchases_frequency']\n",
        "df_ref['recency'] = df_ref['recency'].map(mirroring)\n",
        "\n",
        "# frequency\n",
        "df_ref['frequency'] = df2['purchases_trx']\n",
        "\n",
        "# monetary\n",
        "df_ref['monetary'] = df2['cash_advance']\n",
        "\n",
        "# balance\n",
        "df_ref['balance'] = df2['balance']"
      ],
      "execution_count": 62,
      "outputs": []
    },
    {
      "cell_type": "code",
      "metadata": {
        "colab": {
          "base_uri": "https://localhost:8080/",
          "height": 204
        },
        "id": "SZFVwY1cmZ-a",
        "outputId": "7c405da5-056f-4412-805b-87011c6c453a"
      },
      "source": [
        "df_ref.sample().T"
      ],
      "execution_count": 64,
      "outputs": [
        {
          "output_type": "execute_result",
          "data": {
            "text/html": [
              "<div>\n",
              "<style scoped>\n",
              "    .dataframe tbody tr th:only-of-type {\n",
              "        vertical-align: middle;\n",
              "    }\n",
              "\n",
              "    .dataframe tbody tr th {\n",
              "        vertical-align: top;\n",
              "    }\n",
              "\n",
              "    .dataframe thead th {\n",
              "        text-align: right;\n",
              "    }\n",
              "</style>\n",
              "<table border=\"1\" class=\"dataframe\">\n",
              "  <thead>\n",
              "    <tr style=\"text-align: right;\">\n",
              "      <th></th>\n",
              "      <th>7673</th>\n",
              "    </tr>\n",
              "  </thead>\n",
              "  <tbody>\n",
              "    <tr>\n",
              "      <th>cust_id</th>\n",
              "      <td>C17879</td>\n",
              "    </tr>\n",
              "    <tr>\n",
              "      <th>recency</th>\n",
              "      <td>0.833333</td>\n",
              "    </tr>\n",
              "    <tr>\n",
              "      <th>frequency</th>\n",
              "      <td>2</td>\n",
              "    </tr>\n",
              "    <tr>\n",
              "      <th>monetary</th>\n",
              "      <td>0</td>\n",
              "    </tr>\n",
              "    <tr>\n",
              "      <th>balance</th>\n",
              "      <td>0</td>\n",
              "    </tr>\n",
              "  </tbody>\n",
              "</table>\n",
              "</div>"
            ],
            "text/plain": [
              "               7673\n",
              "cust_id      C17879\n",
              "recency    0.833333\n",
              "frequency         2\n",
              "monetary          0\n",
              "balance           0"
            ]
          },
          "metadata": {},
          "execution_count": 64
        }
      ]
    },
    {
      "cell_type": "markdown",
      "metadata": {
        "id": "nPBXKpfU9bcp"
      },
      "source": [
        "# 3. Feature Filtering"
      ]
    },
    {
      "cell_type": "code",
      "metadata": {
        "id": "SVzRpWhr-dnm"
      },
      "source": [
        "df3 = df_ref.copy()"
      ],
      "execution_count": 65,
      "outputs": []
    },
    {
      "cell_type": "markdown",
      "metadata": {
        "id": "_PVALd2d9bf3"
      },
      "source": [
        "# 4. EDA (Exploratory Data Analysis)"
      ]
    },
    {
      "cell_type": "code",
      "metadata": {
        "id": "WVv1oJnQ-dzW"
      },
      "source": [
        "df4 = df3.copy()"
      ],
      "execution_count": 66,
      "outputs": []
    },
    {
      "cell_type": "markdown",
      "metadata": {
        "id": "B9QVG7Dm9bjI"
      },
      "source": [
        "# 5. Data Preparation"
      ]
    },
    {
      "cell_type": "code",
      "metadata": {
        "id": "8fcoWFSi-d9m"
      },
      "source": [
        "df5 = df4.copy()"
      ],
      "execution_count": 67,
      "outputs": []
    },
    {
      "cell_type": "markdown",
      "metadata": {
        "id": "CMHd8VoQ9bmW"
      },
      "source": [
        "# 6. Feature Selection"
      ]
    },
    {
      "cell_type": "code",
      "metadata": {
        "id": "_3bLzLsY-eGg"
      },
      "source": [
        "df6 = df5.copy()"
      ],
      "execution_count": 68,
      "outputs": []
    },
    {
      "cell_type": "markdown",
      "metadata": {
        "id": "rm7dUHph9bp4"
      },
      "source": [
        "# 7. Hyperparameter Fine-Tunning"
      ]
    },
    {
      "cell_type": "code",
      "metadata": {
        "id": "YvMlw7_3-ePn"
      },
      "source": [
        "df7 = df6.drop('cust_id',axis=1)"
      ],
      "execution_count": 71,
      "outputs": []
    },
    {
      "cell_type": "markdown",
      "metadata": {
        "id": "2qgPVviD9btH"
      },
      "source": [
        "# 8. Model Training"
      ]
    },
    {
      "cell_type": "code",
      "metadata": {
        "id": "FtScggNA-eZv"
      },
      "source": [
        ""
      ],
      "execution_count": null,
      "outputs": []
    },
    {
      "cell_type": "markdown",
      "metadata": {
        "id": "47PVTA7A9bwn"
      },
      "source": [
        "# 9. Cluster Analysis"
      ]
    },
    {
      "cell_type": "code",
      "metadata": {
        "id": "MT7Ry1Zi-epe"
      },
      "source": [
        ""
      ],
      "execution_count": null,
      "outputs": []
    }
  ]
}