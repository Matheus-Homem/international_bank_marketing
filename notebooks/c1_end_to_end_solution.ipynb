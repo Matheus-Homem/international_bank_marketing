{
  "nbformat": 4,
  "nbformat_minor": 0,
  "metadata": {
    "colab": {
      "name": "c1_end_to_end_solution.ipynb",
      "provenance": [],
      "authorship_tag": "ABX9TyOjJs5+4to3uvtBMqd6x8tJ",
      "include_colab_link": true
    },
    "kernelspec": {
      "name": "python3",
      "display_name": "Python 3"
    },
    "language_info": {
      "name": "python"
    }
  },
  "cells": [
    {
      "cell_type": "markdown",
      "metadata": {
        "id": "view-in-github",
        "colab_type": "text"
      },
      "source": [
        "<a href=\"https://colab.research.google.com/github/Matheus-Homem/international_bank_marketing/blob/main/notebooks/c1_end_to_end_solution.ipynb\" target=\"_parent\"><img src=\"https://colab.research.google.com/assets/colab-badge.svg\" alt=\"Open In Colab\"/></a>"
      ]
    },
    {
      "cell_type": "markdown",
      "metadata": {
        "id": "hLtZkN199bN_"
      },
      "source": [
        "# 0. Imports"
      ]
    },
    {
      "cell_type": "markdown",
      "metadata": {
        "id": "SWDob6Yr-vam"
      },
      "source": [
        "## 0.1. Libraries"
      ]
    },
    {
      "cell_type": "code",
      "metadata": {
        "id": "0QSS8gEm-bqm"
      },
      "source": [
        "import numpy as np\n",
        "import pandas as pd\n",
        "import seaborn as sns\n",
        "from matplotlib import pyplot as plt\n",
        "from yellowbrick.cluster import KElbowVisualizer\n",
        "from sklearn.cluster import KMeans\n",
        "from sklearn.preprocessing import MinMaxScaler"
      ],
      "execution_count": 21,
      "outputs": []
    },
    {
      "cell_type": "markdown",
      "metadata": {
        "id": "U4xmd0AY-4MX"
      },
      "source": [
        "## 0.2. Load Dataset"
      ]
    },
    {
      "cell_type": "code",
      "metadata": {
        "id": "8mcCyc8k-_zG"
      },
      "source": [
        "df = pd.read_csv('https://github.com/Matheus-Homem/international_bank_marketing/raw/main/data/CC%20GENERAL.csv')"
      ],
      "execution_count": 2,
      "outputs": []
    },
    {
      "cell_type": "code",
      "metadata": {
        "colab": {
          "base_uri": "https://localhost:8080/",
          "height": 607
        },
        "id": "zUDm6rI0_FOe",
        "outputId": "6edb4641-cd5c-498d-da30-3d65ac3114df"
      },
      "source": [
        "df.sample().T"
      ],
      "execution_count": 3,
      "outputs": [
        {
          "output_type": "execute_result",
          "data": {
            "text/html": [
              "<div>\n",
              "<style scoped>\n",
              "    .dataframe tbody tr th:only-of-type {\n",
              "        vertical-align: middle;\n",
              "    }\n",
              "\n",
              "    .dataframe tbody tr th {\n",
              "        vertical-align: top;\n",
              "    }\n",
              "\n",
              "    .dataframe thead th {\n",
              "        text-align: right;\n",
              "    }\n",
              "</style>\n",
              "<table border=\"1\" class=\"dataframe\">\n",
              "  <thead>\n",
              "    <tr style=\"text-align: right;\">\n",
              "      <th></th>\n",
              "      <th>6462</th>\n",
              "    </tr>\n",
              "  </thead>\n",
              "  <tbody>\n",
              "    <tr>\n",
              "      <th>CUST_ID</th>\n",
              "      <td>C16639</td>\n",
              "    </tr>\n",
              "    <tr>\n",
              "      <th>BALANCE</th>\n",
              "      <td>276.933</td>\n",
              "    </tr>\n",
              "    <tr>\n",
              "      <th>BALANCE_FREQUENCY</th>\n",
              "      <td>0.454545</td>\n",
              "    </tr>\n",
              "    <tr>\n",
              "      <th>PURCHASES</th>\n",
              "      <td>0</td>\n",
              "    </tr>\n",
              "    <tr>\n",
              "      <th>ONEOFF_PURCHASES</th>\n",
              "      <td>0</td>\n",
              "    </tr>\n",
              "    <tr>\n",
              "      <th>INSTALLMENTS_PURCHASES</th>\n",
              "      <td>0</td>\n",
              "    </tr>\n",
              "    <tr>\n",
              "      <th>CASH_ADVANCE</th>\n",
              "      <td>936.595</td>\n",
              "    </tr>\n",
              "    <tr>\n",
              "      <th>PURCHASES_FREQUENCY</th>\n",
              "      <td>0</td>\n",
              "    </tr>\n",
              "    <tr>\n",
              "      <th>ONEOFF_PURCHASES_FREQUENCY</th>\n",
              "      <td>0</td>\n",
              "    </tr>\n",
              "    <tr>\n",
              "      <th>PURCHASES_INSTALLMENTS_FREQUENCY</th>\n",
              "      <td>0</td>\n",
              "    </tr>\n",
              "    <tr>\n",
              "      <th>CASH_ADVANCE_FREQUENCY</th>\n",
              "      <td>0.083333</td>\n",
              "    </tr>\n",
              "    <tr>\n",
              "      <th>CASH_ADVANCE_TRX</th>\n",
              "      <td>2</td>\n",
              "    </tr>\n",
              "    <tr>\n",
              "      <th>PURCHASES_TRX</th>\n",
              "      <td>0</td>\n",
              "    </tr>\n",
              "    <tr>\n",
              "      <th>CREDIT_LIMIT</th>\n",
              "      <td>1000</td>\n",
              "    </tr>\n",
              "    <tr>\n",
              "      <th>PAYMENTS</th>\n",
              "      <td>247.915</td>\n",
              "    </tr>\n",
              "    <tr>\n",
              "      <th>MINIMUM_PAYMENTS</th>\n",
              "      <td>152.028</td>\n",
              "    </tr>\n",
              "    <tr>\n",
              "      <th>PRC_FULL_PAYMENT</th>\n",
              "      <td>0</td>\n",
              "    </tr>\n",
              "    <tr>\n",
              "      <th>TENURE</th>\n",
              "      <td>12</td>\n",
              "    </tr>\n",
              "  </tbody>\n",
              "</table>\n",
              "</div>"
            ],
            "text/plain": [
              "                                      6462\n",
              "CUST_ID                             C16639\n",
              "BALANCE                            276.933\n",
              "BALANCE_FREQUENCY                 0.454545\n",
              "PURCHASES                                0\n",
              "ONEOFF_PURCHASES                         0\n",
              "INSTALLMENTS_PURCHASES                   0\n",
              "CASH_ADVANCE                       936.595\n",
              "PURCHASES_FREQUENCY                      0\n",
              "ONEOFF_PURCHASES_FREQUENCY               0\n",
              "PURCHASES_INSTALLMENTS_FREQUENCY         0\n",
              "CASH_ADVANCE_FREQUENCY            0.083333\n",
              "CASH_ADVANCE_TRX                         2\n",
              "PURCHASES_TRX                            0\n",
              "CREDIT_LIMIT                          1000\n",
              "PAYMENTS                           247.915\n",
              "MINIMUM_PAYMENTS                   152.028\n",
              "PRC_FULL_PAYMENT                         0\n",
              "TENURE                                  12"
            ]
          },
          "metadata": {},
          "execution_count": 3
        }
      ]
    },
    {
      "cell_type": "markdown",
      "metadata": {
        "id": "FqISaBt49bWX"
      },
      "source": [
        "# 1. Data Description"
      ]
    },
    {
      "cell_type": "code",
      "metadata": {
        "id": "gsQdQWkt_dRW"
      },
      "source": [
        "df1 = df.copy()"
      ],
      "execution_count": 4,
      "outputs": []
    },
    {
      "cell_type": "markdown",
      "metadata": {
        "id": "VjvZx27Z_Wlu"
      },
      "source": [
        "## 1.1. Rename Columns"
      ]
    },
    {
      "cell_type": "code",
      "metadata": {
        "id": "up_ZgLtY_qhW"
      },
      "source": [
        "df1.columns = list(map(lambda x: x.lower(), df1.columns))"
      ],
      "execution_count": 5,
      "outputs": []
    },
    {
      "cell_type": "markdown",
      "metadata": {
        "id": "Mo2Bgj6zTw9I"
      },
      "source": [
        "## 1.2. Data Dimensions"
      ]
    },
    {
      "cell_type": "code",
      "metadata": {
        "colab": {
          "base_uri": "https://localhost:8080/"
        },
        "id": "6oHIn3c2U-1X",
        "outputId": "ad9d5aa3-fe01-4c05-a4a6-00e11b1c1107"
      },
      "source": [
        "print('Number of rows: {}'.format(df1.shape[0]))\n",
        "print('Number of columns: {}'.format(df1.shape[1]))"
      ],
      "execution_count": 6,
      "outputs": [
        {
          "output_type": "stream",
          "name": "stdout",
          "text": [
            "Number of rows: 8950\n",
            "Number of columns: 18\n"
          ]
        }
      ]
    },
    {
      "cell_type": "markdown",
      "metadata": {
        "id": "z1UwNvdrUWXX"
      },
      "source": [
        "## 1.3. Data Types"
      ]
    },
    {
      "cell_type": "code",
      "metadata": {
        "colab": {
          "base_uri": "https://localhost:8080/"
        },
        "id": "kI7SV5wVVH0f",
        "outputId": "ba41012b-c2f5-4f7f-f8db-79710c092df1"
      },
      "source": [
        "df1.dtypes"
      ],
      "execution_count": 7,
      "outputs": [
        {
          "output_type": "execute_result",
          "data": {
            "text/plain": [
              "cust_id                              object\n",
              "balance                             float64\n",
              "balance_frequency                   float64\n",
              "purchases                           float64\n",
              "oneoff_purchases                    float64\n",
              "installments_purchases              float64\n",
              "cash_advance                        float64\n",
              "purchases_frequency                 float64\n",
              "oneoff_purchases_frequency          float64\n",
              "purchases_installments_frequency    float64\n",
              "cash_advance_frequency              float64\n",
              "cash_advance_trx                      int64\n",
              "purchases_trx                         int64\n",
              "credit_limit                        float64\n",
              "payments                            float64\n",
              "minimum_payments                    float64\n",
              "prc_full_payment                    float64\n",
              "tenure                                int64\n",
              "dtype: object"
            ]
          },
          "metadata": {},
          "execution_count": 7
        }
      ]
    },
    {
      "cell_type": "markdown",
      "metadata": {
        "id": "Lmzw0auFT1oI"
      },
      "source": [
        "## 1.4. Check NA"
      ]
    },
    {
      "cell_type": "code",
      "metadata": {
        "colab": {
          "base_uri": "https://localhost:8080/"
        },
        "id": "QW7yTS_JVbJX",
        "outputId": "ce7f566f-c19d-47d5-971a-5c38b2b11e08"
      },
      "source": [
        "df1.isna().sum()"
      ],
      "execution_count": 8,
      "outputs": [
        {
          "output_type": "execute_result",
          "data": {
            "text/plain": [
              "cust_id                               0\n",
              "balance                               0\n",
              "balance_frequency                     0\n",
              "purchases                             0\n",
              "oneoff_purchases                      0\n",
              "installments_purchases                0\n",
              "cash_advance                          0\n",
              "purchases_frequency                   0\n",
              "oneoff_purchases_frequency            0\n",
              "purchases_installments_frequency      0\n",
              "cash_advance_frequency                0\n",
              "cash_advance_trx                      0\n",
              "purchases_trx                         0\n",
              "credit_limit                          1\n",
              "payments                              0\n",
              "minimum_payments                    313\n",
              "prc_full_payment                      0\n",
              "tenure                                0\n",
              "dtype: int64"
            ]
          },
          "metadata": {},
          "execution_count": 8
        }
      ]
    },
    {
      "cell_type": "markdown",
      "metadata": {
        "id": "R1lvzW3LUryG"
      },
      "source": [
        "## 1.5. Replace NA"
      ]
    },
    {
      "cell_type": "code",
      "metadata": {
        "colab": {
          "base_uri": "https://localhost:8080/"
        },
        "id": "mywIyazjVf4f",
        "outputId": "e0aac6e7-2f9b-430e-e4cd-424c4b32c235"
      },
      "source": [
        "# remove NA\n",
        "df1.dropna(inplace=True)\n",
        "print('Number of rows: {}'.format(df1.shape[0]))\n",
        "print('Removed data: {:.2f}%'.format(1-(df1.shape[0]/df.shape[0])))"
      ],
      "execution_count": 9,
      "outputs": [
        {
          "output_type": "stream",
          "name": "stdout",
          "text": [
            "Number of rows: 8636\n",
            "Removed data: 0.04%\n"
          ]
        }
      ]
    },
    {
      "cell_type": "markdown",
      "metadata": {
        "id": "F9sZFYwTUr7P"
      },
      "source": [
        "## 1.6. Change dtypes"
      ]
    },
    {
      "cell_type": "markdown",
      "metadata": {
        "id": "A3br8iRzUsDv"
      },
      "source": [
        "## 1.7. Descriptive Statistics"
      ]
    },
    {
      "cell_type": "markdown",
      "metadata": {
        "id": "t709IWDY9bZP"
      },
      "source": [
        "# 2. Feature Engineering"
      ]
    },
    {
      "cell_type": "code",
      "metadata": {
        "id": "nyPZmbxj-dUt"
      },
      "source": [
        "df2 = df1.copy()"
      ],
      "execution_count": 10,
      "outputs": []
    },
    {
      "cell_type": "markdown",
      "metadata": {
        "id": "v1Qd5kJrWYq_"
      },
      "source": [
        "## 2.1. Feature Creation"
      ]
    },
    {
      "cell_type": "code",
      "metadata": {
        "colab": {
          "base_uri": "https://localhost:8080/",
          "height": 607
        },
        "id": "OP7v5nVyWRkG",
        "outputId": "480d63ef-c4c0-410a-a14f-1b66b31f0671"
      },
      "source": [
        "df2.sample(5).T"
      ],
      "execution_count": 11,
      "outputs": [
        {
          "output_type": "execute_result",
          "data": {
            "text/html": [
              "<div>\n",
              "<style scoped>\n",
              "    .dataframe tbody tr th:only-of-type {\n",
              "        vertical-align: middle;\n",
              "    }\n",
              "\n",
              "    .dataframe tbody tr th {\n",
              "        vertical-align: top;\n",
              "    }\n",
              "\n",
              "    .dataframe thead th {\n",
              "        text-align: right;\n",
              "    }\n",
              "</style>\n",
              "<table border=\"1\" class=\"dataframe\">\n",
              "  <thead>\n",
              "    <tr style=\"text-align: right;\">\n",
              "      <th></th>\n",
              "      <th>6213</th>\n",
              "      <th>1994</th>\n",
              "      <th>6138</th>\n",
              "      <th>7428</th>\n",
              "      <th>914</th>\n",
              "    </tr>\n",
              "  </thead>\n",
              "  <tbody>\n",
              "    <tr>\n",
              "      <th>cust_id</th>\n",
              "      <td>C16386</td>\n",
              "      <td>C12057</td>\n",
              "      <td>C16309</td>\n",
              "      <td>C17631</td>\n",
              "      <td>C10946</td>\n",
              "    </tr>\n",
              "    <tr>\n",
              "      <th>balance</th>\n",
              "      <td>226.684</td>\n",
              "      <td>1060.42</td>\n",
              "      <td>1978.44</td>\n",
              "      <td>6631.79</td>\n",
              "      <td>2.95727</td>\n",
              "    </tr>\n",
              "    <tr>\n",
              "      <th>balance_frequency</th>\n",
              "      <td>1</td>\n",
              "      <td>0.818182</td>\n",
              "      <td>1</td>\n",
              "      <td>1</td>\n",
              "      <td>0.272727</td>\n",
              "    </tr>\n",
              "    <tr>\n",
              "      <th>purchases</th>\n",
              "      <td>672.48</td>\n",
              "      <td>161.5</td>\n",
              "      <td>35.94</td>\n",
              "      <td>74.17</td>\n",
              "      <td>202.72</td>\n",
              "    </tr>\n",
              "    <tr>\n",
              "      <th>oneoff_purchases</th>\n",
              "      <td>0</td>\n",
              "      <td>161.5</td>\n",
              "      <td>35.94</td>\n",
              "      <td>74.17</td>\n",
              "      <td>0</td>\n",
              "    </tr>\n",
              "    <tr>\n",
              "      <th>installments_purchases</th>\n",
              "      <td>672.48</td>\n",
              "      <td>0</td>\n",
              "      <td>0</td>\n",
              "      <td>0</td>\n",
              "      <td>202.72</td>\n",
              "    </tr>\n",
              "    <tr>\n",
              "      <th>cash_advance</th>\n",
              "      <td>235.063</td>\n",
              "      <td>765.748</td>\n",
              "      <td>922.673</td>\n",
              "      <td>4618.93</td>\n",
              "      <td>0</td>\n",
              "    </tr>\n",
              "    <tr>\n",
              "      <th>purchases_frequency</th>\n",
              "      <td>1</td>\n",
              "      <td>0.166667</td>\n",
              "      <td>0.083333</td>\n",
              "      <td>0.090909</td>\n",
              "      <td>0.833333</td>\n",
              "    </tr>\n",
              "    <tr>\n",
              "      <th>oneoff_purchases_frequency</th>\n",
              "      <td>0</td>\n",
              "      <td>0.166667</td>\n",
              "      <td>0.083333</td>\n",
              "      <td>0.090909</td>\n",
              "      <td>0</td>\n",
              "    </tr>\n",
              "    <tr>\n",
              "      <th>purchases_installments_frequency</th>\n",
              "      <td>1</td>\n",
              "      <td>0</td>\n",
              "      <td>0</td>\n",
              "      <td>0</td>\n",
              "      <td>0.833333</td>\n",
              "    </tr>\n",
              "    <tr>\n",
              "      <th>cash_advance_frequency</th>\n",
              "      <td>0.666667</td>\n",
              "      <td>0.166667</td>\n",
              "      <td>0.916667</td>\n",
              "      <td>0.454545</td>\n",
              "      <td>0</td>\n",
              "    </tr>\n",
              "    <tr>\n",
              "      <th>cash_advance_trx</th>\n",
              "      <td>9</td>\n",
              "      <td>5</td>\n",
              "      <td>28</td>\n",
              "      <td>10</td>\n",
              "      <td>0</td>\n",
              "    </tr>\n",
              "    <tr>\n",
              "      <th>purchases_trx</th>\n",
              "      <td>12</td>\n",
              "      <td>3</td>\n",
              "      <td>1</td>\n",
              "      <td>1</td>\n",
              "      <td>10</td>\n",
              "    </tr>\n",
              "    <tr>\n",
              "      <th>credit_limit</th>\n",
              "      <td>4500</td>\n",
              "      <td>3700</td>\n",
              "      <td>2000</td>\n",
              "      <td>9000</td>\n",
              "      <td>4500</td>\n",
              "    </tr>\n",
              "    <tr>\n",
              "      <th>payments</th>\n",
              "      <td>869.633</td>\n",
              "      <td>2333.39</td>\n",
              "      <td>1230.61</td>\n",
              "      <td>1652.03</td>\n",
              "      <td>31.5962</td>\n",
              "    </tr>\n",
              "    <tr>\n",
              "      <th>minimum_payments</th>\n",
              "      <td>182.836</td>\n",
              "      <td>475.984</td>\n",
              "      <td>1314.63</td>\n",
              "      <td>1516.89</td>\n",
              "      <td>53.0116</td>\n",
              "    </tr>\n",
              "    <tr>\n",
              "      <th>prc_full_payment</th>\n",
              "      <td>0</td>\n",
              "      <td>0.111111</td>\n",
              "      <td>0</td>\n",
              "      <td>0</td>\n",
              "      <td>0</td>\n",
              "    </tr>\n",
              "    <tr>\n",
              "      <th>tenure</th>\n",
              "      <td>12</td>\n",
              "      <td>12</td>\n",
              "      <td>12</td>\n",
              "      <td>11</td>\n",
              "      <td>12</td>\n",
              "    </tr>\n",
              "  </tbody>\n",
              "</table>\n",
              "</div>"
            ],
            "text/plain": [
              "                                      6213      1994  ...      7428      914 \n",
              "cust_id                             C16386    C12057  ...    C17631    C10946\n",
              "balance                            226.684   1060.42  ...   6631.79   2.95727\n",
              "balance_frequency                        1  0.818182  ...         1  0.272727\n",
              "purchases                           672.48     161.5  ...     74.17    202.72\n",
              "oneoff_purchases                         0     161.5  ...     74.17         0\n",
              "installments_purchases              672.48         0  ...         0    202.72\n",
              "cash_advance                       235.063   765.748  ...   4618.93         0\n",
              "purchases_frequency                      1  0.166667  ...  0.090909  0.833333\n",
              "oneoff_purchases_frequency               0  0.166667  ...  0.090909         0\n",
              "purchases_installments_frequency         1         0  ...         0  0.833333\n",
              "cash_advance_frequency            0.666667  0.166667  ...  0.454545         0\n",
              "cash_advance_trx                         9         5  ...        10         0\n",
              "purchases_trx                           12         3  ...         1        10\n",
              "credit_limit                          4500      3700  ...      9000      4500\n",
              "payments                           869.633   2333.39  ...   1652.03   31.5962\n",
              "minimum_payments                   182.836   475.984  ...   1516.89   53.0116\n",
              "prc_full_payment                         0  0.111111  ...         0         0\n",
              "tenure                                  12        12  ...        11        12\n",
              "\n",
              "[18 rows x 5 columns]"
            ]
          },
          "metadata": {},
          "execution_count": 11
        }
      ]
    },
    {
      "cell_type": "code",
      "metadata": {
        "id": "pvxwoh3sa1MN"
      },
      "source": [
        "# data reference\n",
        "df_ref = pd.DataFrame(df2['cust_id'])\n",
        "\n",
        "# recency\n",
        "df_ref['recency'] = df2['purchases_frequency']\n",
        "\n",
        "# frequency\n",
        "df_ref['frequency'] = df2['purchases_trx']\n",
        "mms = MinMaxScaler()\n",
        "df_ref['frequency'] = mms.fit_transform(df_ref[['frequency']].values)\n",
        "\n",
        "# monetary\n",
        "df_ref['monetary'] = df2['payments']\n",
        "df_ref['monetary'] = mms.fit_transform(df_ref[['monetary']].values)\n",
        "\n",
        "# balance\n",
        "df_ref['balance'] = df2['balance']\n",
        "df_ref['balance'] = mms.fit_transform(df_ref[['balance']].values)"
      ],
      "execution_count": 25,
      "outputs": []
    },
    {
      "cell_type": "code",
      "metadata": {
        "colab": {
          "base_uri": "https://localhost:8080/",
          "height": 204
        },
        "id": "SZFVwY1cmZ-a",
        "outputId": "82f01880-d28f-47b1-acb4-f731c0171625"
      },
      "source": [
        "df_ref.sample(5).T"
      ],
      "execution_count": 26,
      "outputs": [
        {
          "output_type": "execute_result",
          "data": {
            "text/html": [
              "<div>\n",
              "<style scoped>\n",
              "    .dataframe tbody tr th:only-of-type {\n",
              "        vertical-align: middle;\n",
              "    }\n",
              "\n",
              "    .dataframe tbody tr th {\n",
              "        vertical-align: top;\n",
              "    }\n",
              "\n",
              "    .dataframe thead th {\n",
              "        text-align: right;\n",
              "    }\n",
              "</style>\n",
              "<table border=\"1\" class=\"dataframe\">\n",
              "  <thead>\n",
              "    <tr style=\"text-align: right;\">\n",
              "      <th></th>\n",
              "      <th>4168</th>\n",
              "      <th>8873</th>\n",
              "      <th>7415</th>\n",
              "      <th>3885</th>\n",
              "      <th>6473</th>\n",
              "    </tr>\n",
              "  </thead>\n",
              "  <tbody>\n",
              "    <tr>\n",
              "      <th>cust_id</th>\n",
              "      <td>C14284</td>\n",
              "      <td>C19114</td>\n",
              "      <td>C17617</td>\n",
              "      <td>C13995</td>\n",
              "      <td>C16651</td>\n",
              "    </tr>\n",
              "    <tr>\n",
              "      <th>recency</th>\n",
              "      <td>0</td>\n",
              "      <td>1</td>\n",
              "      <td>0.142857</td>\n",
              "      <td>1</td>\n",
              "      <td>0.083333</td>\n",
              "    </tr>\n",
              "    <tr>\n",
              "      <th>frequency</th>\n",
              "      <td>0</td>\n",
              "      <td>0.0614525</td>\n",
              "      <td>0.0027933</td>\n",
              "      <td>0.430168</td>\n",
              "      <td>0.0027933</td>\n",
              "    </tr>\n",
              "    <tr>\n",
              "      <th>monetary</th>\n",
              "      <td>0.038783</td>\n",
              "      <td>0.0041808</td>\n",
              "      <td>0.00373017</td>\n",
              "      <td>0.0226643</td>\n",
              "      <td>0.0431594</td>\n",
              "    </tr>\n",
              "    <tr>\n",
              "      <th>balance</th>\n",
              "      <td>0.03758</td>\n",
              "      <td>0.0537665</td>\n",
              "      <td>0.00226265</td>\n",
              "      <td>0.164159</td>\n",
              "      <td>0.0311811</td>\n",
              "    </tr>\n",
              "  </tbody>\n",
              "</table>\n",
              "</div>"
            ],
            "text/plain": [
              "               4168       8873        7415       3885       6473\n",
              "cust_id      C14284     C19114      C17617     C13995     C16651\n",
              "recency           0          1    0.142857          1   0.083333\n",
              "frequency         0  0.0614525   0.0027933   0.430168  0.0027933\n",
              "monetary   0.038783  0.0041808  0.00373017  0.0226643  0.0431594\n",
              "balance     0.03758  0.0537665  0.00226265   0.164159  0.0311811"
            ]
          },
          "metadata": {},
          "execution_count": 26
        }
      ]
    },
    {
      "cell_type": "markdown",
      "metadata": {
        "id": "nPBXKpfU9bcp"
      },
      "source": [
        "# 3. Feature Filtering"
      ]
    },
    {
      "cell_type": "code",
      "metadata": {
        "id": "SVzRpWhr-dnm"
      },
      "source": [
        "df3 = df_ref.copy()"
      ],
      "execution_count": 28,
      "outputs": []
    },
    {
      "cell_type": "markdown",
      "metadata": {
        "id": "_PVALd2d9bf3"
      },
      "source": [
        "# 4. EDA (Exploratory Data Analysis)"
      ]
    },
    {
      "cell_type": "code",
      "metadata": {
        "id": "WVv1oJnQ-dzW"
      },
      "source": [
        "df4 = df3.copy()"
      ],
      "execution_count": 29,
      "outputs": []
    },
    {
      "cell_type": "markdown",
      "metadata": {
        "id": "B9QVG7Dm9bjI"
      },
      "source": [
        "# 5. Data Preparation"
      ]
    },
    {
      "cell_type": "code",
      "metadata": {
        "id": "8fcoWFSi-d9m"
      },
      "source": [
        "df5 = df4.copy()"
      ],
      "execution_count": 30,
      "outputs": []
    },
    {
      "cell_type": "markdown",
      "metadata": {
        "id": "CMHd8VoQ9bmW"
      },
      "source": [
        "# 6. Feature Selection"
      ]
    },
    {
      "cell_type": "code",
      "metadata": {
        "id": "_3bLzLsY-eGg"
      },
      "source": [
        "df6 = df5.copy()"
      ],
      "execution_count": 31,
      "outputs": []
    },
    {
      "cell_type": "markdown",
      "metadata": {
        "id": "rm7dUHph9bp4"
      },
      "source": [
        "# 7. Hyperparameter Fine-Tunning"
      ]
    },
    {
      "cell_type": "code",
      "metadata": {
        "id": "YvMlw7_3-ePn"
      },
      "source": [
        "X = df6.drop('cust_id',axis=1)"
      ],
      "execution_count": 32,
      "outputs": []
    },
    {
      "cell_type": "code",
      "metadata": {
        "id": "DCLxt0b7KTdz"
      },
      "source": [
        "clusters = [2,3,4,5,6]"
      ],
      "execution_count": 33,
      "outputs": []
    },
    {
      "cell_type": "code",
      "metadata": {
        "id": "CIbMLrRVxVcp"
      },
      "source": [
        "model = KMeans()"
      ],
      "execution_count": 34,
      "outputs": []
    },
    {
      "cell_type": "markdown",
      "metadata": {
        "id": "CnuEeRPGJZ-b"
      },
      "source": [
        "## 7.1. Within-Cluster Sum of Square (WSS)"
      ]
    },
    {
      "cell_type": "code",
      "metadata": {
        "id": "1uUhi6IzPkFI",
        "outputId": "3d596de2-1d79-40d9-dfd0-b0a2fa038420",
        "colab": {
          "base_uri": "https://localhost:8080/",
          "height": 531
        }
      },
      "source": [
        "kmeans = KElbowVisualizer(model,k=(2,7), metric='distortion',timings=False)\n",
        "kmeans.fit(X)\n",
        "kmeans.show()"
      ],
      "execution_count": 37,
      "outputs": [
        {
          "output_type": "error",
          "ename": "AttributeError",
          "evalue": "ignored",
          "traceback": [
            "\u001b[0;31m---------------------------------------------------------------------------\u001b[0m",
            "\u001b[0;31mAttributeError\u001b[0m                            Traceback (most recent call last)",
            "\u001b[0;32m<ipython-input-37-ec46e0301820>\u001b[0m in \u001b[0;36m<module>\u001b[0;34m()\u001b[0m\n\u001b[1;32m      1\u001b[0m \u001b[0mkmeans\u001b[0m \u001b[0;34m=\u001b[0m \u001b[0mKElbowVisualizer\u001b[0m\u001b[0;34m(\u001b[0m\u001b[0mmodel\u001b[0m\u001b[0;34m,\u001b[0m\u001b[0mk\u001b[0m\u001b[0;34m=\u001b[0m\u001b[0;34m(\u001b[0m\u001b[0;36m2\u001b[0m\u001b[0;34m,\u001b[0m\u001b[0;36m7\u001b[0m\u001b[0;34m)\u001b[0m\u001b[0;34m,\u001b[0m \u001b[0mmetric\u001b[0m\u001b[0;34m=\u001b[0m\u001b[0;34m'distortion'\u001b[0m\u001b[0;34m,\u001b[0m\u001b[0mtimings\u001b[0m\u001b[0;34m=\u001b[0m\u001b[0;32mFalse\u001b[0m\u001b[0;34m)\u001b[0m\u001b[0;34m\u001b[0m\u001b[0;34m\u001b[0m\u001b[0m\n\u001b[1;32m      2\u001b[0m \u001b[0mkmeans\u001b[0m\u001b[0;34m.\u001b[0m\u001b[0mfit\u001b[0m\u001b[0;34m(\u001b[0m\u001b[0mX\u001b[0m\u001b[0;34m)\u001b[0m\u001b[0;34m\u001b[0m\u001b[0;34m\u001b[0m\u001b[0m\n\u001b[0;32m----> 3\u001b[0;31m \u001b[0mkmeans\u001b[0m\u001b[0;34m.\u001b[0m\u001b[0mshow\u001b[0m\u001b[0;34m(\u001b[0m\u001b[0;34m)\u001b[0m\u001b[0;34m\u001b[0m\u001b[0;34m\u001b[0m\u001b[0m\n\u001b[0m",
            "\u001b[0;32m/usr/local/lib/python3.7/dist-packages/yellowbrick/utils/wrapper.py\u001b[0m in \u001b[0;36m__getattr__\u001b[0;34m(self, attr)\u001b[0m\n\u001b[1;32m     40\u001b[0m     \u001b[0;32mdef\u001b[0m \u001b[0m__getattr__\u001b[0m\u001b[0;34m(\u001b[0m\u001b[0mself\u001b[0m\u001b[0;34m,\u001b[0m \u001b[0mattr\u001b[0m\u001b[0;34m)\u001b[0m\u001b[0;34m:\u001b[0m\u001b[0;34m\u001b[0m\u001b[0;34m\u001b[0m\u001b[0m\n\u001b[1;32m     41\u001b[0m         \u001b[0;31m# proxy to the wrapped object\u001b[0m\u001b[0;34m\u001b[0m\u001b[0;34m\u001b[0m\u001b[0;34m\u001b[0m\u001b[0m\n\u001b[0;32m---> 42\u001b[0;31m         \u001b[0;32mreturn\u001b[0m \u001b[0mgetattr\u001b[0m\u001b[0;34m(\u001b[0m\u001b[0mself\u001b[0m\u001b[0;34m.\u001b[0m\u001b[0m_wrapped\u001b[0m\u001b[0;34m,\u001b[0m \u001b[0mattr\u001b[0m\u001b[0;34m)\u001b[0m\u001b[0;34m\u001b[0m\u001b[0;34m\u001b[0m\u001b[0m\n\u001b[0m",
            "\u001b[0;31mAttributeError\u001b[0m: 'KMeans' object has no attribute 'show'"
          ]
        },
        {
          "output_type": "display_data",
          "data": {
            "image/png": "[encoded data removed]",
            "text/plain": [
              "<Figure size 432x288 with 1 Axes>"
            ]
          },
          "metadata": {
            "needs_background": "light"
          }
        }
      ]
    },
    {
      "cell_type": "markdown",
      "metadata": {
        "id": "nvULWVDJJgLC"
      },
      "source": [
        "## 7.2. Sillhouette Score"
      ]
    },
    {
      "cell_type": "code",
      "metadata": {
        "colab": {
          "base_uri": "https://localhost:8080/",
          "height": 333
        },
        "id": "Nun4_P3YJfmi",
        "outputId": "fabcdbd5-1309-4198-cef2-537404856430"
      },
      "source": [
        "kmeans = KElbowVisualizer(KMeans(),k=clusters, metric='silhouette',timings=False)\n",
        "kmeans.fit(X)"
      ],
      "execution_count": 38,
      "outputs": [
        {
          "output_type": "stream",
          "name": "stderr",
          "text": [
            "/usr/local/lib/python3.7/dist-packages/sklearn/base.py:197: FutureWarning: From version 0.24, get_params will raise an AttributeError if a parameter cannot be retrieved as an instance attribute. Previously it would return None.\n",
            "  FutureWarning)\n"
          ]
        },
        {
          "output_type": "execute_result",
          "data": {
            "text/plain": [
              "KElbowVisualizer(ax=<matplotlib.axes._subplots.AxesSubplot object at 0x7f20dea36450>,\n",
              "                 k=None, metric=None, model=None, timings=False)"
            ]
          },
          "metadata": {},
          "execution_count": 38
        },
        {
          "output_type": "display_data",
          "data": {
            "image/png": "[encoded data removed]",
            "text/plain": [
              "<Figure size 432x288 with 1 Axes>"
            ]
          },
          "metadata": {
            "needs_background": "light"
          }
        }
      ]
    },
    {
      "cell_type": "markdown",
      "metadata": {
        "id": "2qgPVviD9btH"
      },
      "source": [
        "# 8. Model Training"
      ]
    },
    {
      "cell_type": "code",
      "metadata": {
        "id": "FtScggNA-eZv"
      },
      "source": [
        ""
      ],
      "execution_count": null,
      "outputs": []
    },
    {
      "cell_type": "markdown",
      "metadata": {
        "id": "47PVTA7A9bwn"
      },
      "source": [
        "# 9. Cluster Analysis"
      ]
    },
    {
      "cell_type": "code",
      "metadata": {
        "id": "MT7Ry1Zi-epe"
      },
      "source": [
        ""
      ],
      "execution_count": null,
      "outputs": []
    }
  ]
}